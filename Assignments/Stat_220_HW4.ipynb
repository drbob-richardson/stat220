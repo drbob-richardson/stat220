{
  "cells": [
    {
      "cell_type": "markdown",
      "id": "77054585",
      "metadata": {},
      "source": [
        "[![Open in Colab](https://colab.research.google.com/assets/colab-badge.svg)](https://colab.research.google.com/github/drbob-richardson/stat220/blob/main/Assignments/Stat_220_HW4.ipynb)"
      ]
    },
    {
      "cell_type": "markdown",
      "id": "f8b4fe84",
      "metadata": {
        "id": "f8b4fe84"
      },
      "source": [
        "# Stat 220 — Homework 4:\n",
        "\n",
        "**Instructions**\n",
        "- Answer all questions. Show all work for full credit.\n",
        "- Use Python (NumPy/Matplotlib/SciPy) to compute values and make plots.\n",
        "- When a plot is requested, label axes and include a legend.\n",
        "- You may add cells as needed."
      ]
    },
    {
      "cell_type": "code",
      "execution_count": null,
      "id": "573495b5",
      "metadata": {
        "id": "573495b5"
      },
      "outputs": [],
      "source": [
        "\n",
        "# Feel free to add any imports you want here.\n",
        "import math\n",
        "import numpy as np\n",
        "import matplotlib.pyplot as plt\n",
        "from scipy import norm, expon, binom"
      ]
    },
    {
      "cell_type": "markdown",
      "id": "5bdee43f",
      "metadata": {
        "id": "5bdee43f"
      },
      "source": [
        "## Data (used in Q1–Q4)\n",
        "We use this small dataset throughout Questions 1–4:"
      ]
    },
    {
      "cell_type": "code",
      "execution_count": null,
      "id": "c970bc83",
      "metadata": {
        "id": "c970bc83"
      },
      "outputs": [],
      "source": [
        "\n",
        "x = np.array([1.1, 3.4, 5.7, 1.9, 2.3, 4.1, 0.9, 1.6, 2.4, 0.5], dtype=float)\n",
        "n = len(x)\n",
        "x\n"
      ]
    },
    {
      "cell_type": "markdown",
      "id": "1f678832",
      "metadata": {
        "id": "1f678832"
      },
      "source": [
        "## Question 1 — Likelihood Function Practice\n",
        "\n",
        "You are given the dataset:\n",
        "\\[\n",
        "x = (1.1, 3.4, 5.7, 1.9, 2.3, 4.1, 0.9, 1.6, 2.4, 0.5).\n",
        "\\]\n",
        "\n"
      ]
    },
    {
      "cell_type": "markdown",
      "id": "eb238489",
      "metadata": {
        "id": "eb238489"
      },
      "source": [
        "**(a)** Derive the **likelihood function**  if the data are assumed to come from an **Exponential($\\lambda$)** distribution **with fixed $\\lambda = 0.5$**. Then **evaluate** the likelihood at the given data."
      ]
    },
    {
      "cell_type": "code",
      "execution_count": null,
      "id": "77733a1a",
      "metadata": {
        "id": "77733a1a"
      },
      "outputs": [],
      "source": []
    },
    {
      "cell_type": "markdown",
      "id": "37ed941c",
      "metadata": {
        "id": "37ed941c"
      },
      "source": [
        "**(b)** Derive the likelihood function if the data are assumed to come from a **Normal($\\mu,\\sigma^2$)** distribution **with fixed $\\mu = 2$, $\\sigma = 1$**. Then **evaluate** that likelihood at the data."
      ]
    },
    {
      "cell_type": "code",
      "execution_count": null,
      "id": "d1798794",
      "metadata": {
        "id": "d1798794"
      },
      "outputs": [],
      "source": []
    },
    {
      "cell_type": "markdown",
      "id": "276e7f05",
      "metadata": {
        "id": "276e7f05"
      },
      "source": [
        "## Question 2\n",
        "\n",
        "Assume the data are i.i.d. **Normal($\\mu,\\sigma^2$)** with both $\\mu$ and $\\sigma^2$ **unknown**.\n",
        "\n"
      ]
    },
    {
      "cell_type": "markdown",
      "id": "7ff83d10",
      "metadata": {
        "id": "7ff83d10"
      },
      "source": [
        "**(a)** Compute these MLEs for $\\mu$ and $\\sigma$ for the dataset.  \n"
      ]
    },
    {
      "cell_type": "code",
      "execution_count": null,
      "id": "e1b6ec1b",
      "metadata": {
        "id": "e1b6ec1b"
      },
      "outputs": [],
      "source": []
    },
    {
      "cell_type": "markdown",
      "id": "fb24a041",
      "metadata": {
        "id": "fb24a041"
      },
      "source": [
        "**(b)** Plot a **histogram** of the data with the **fitted Normal density** overlaid."
      ]
    },
    {
      "cell_type": "code",
      "execution_count": null,
      "id": "ae6d69a8",
      "metadata": {
        "id": "ae6d69a8"
      },
      "outputs": [],
      "source": []
    },
    {
      "cell_type": "markdown",
      "id": "b90c8528",
      "metadata": {
        "id": "b90c8528"
      },
      "source": [
        "## Question 3\n",
        "\n",
        "Assume the data are i.i.d. **Exponential($\\lambda$)** with **unknown** rate $\\lambda$.\n",
        "\n",
        "**(c)** Compute $\\hat{\\lambda}$.  \n"
      ]
    },
    {
      "cell_type": "markdown",
      "id": "5eab5409",
      "metadata": {
        "id": "5eab5409"
      },
      "source": [
        "**(a)** Compute the MLE for $\\lambda$.  \n"
      ]
    },
    {
      "cell_type": "code",
      "execution_count": null,
      "id": "b3a62ba4",
      "metadata": {
        "id": "b3a62ba4"
      },
      "outputs": [],
      "source": []
    },
    {
      "cell_type": "markdown",
      "id": "abe4dd4e",
      "metadata": {
        "id": "abe4dd4e"
      },
      "source": [
        "**(b)** Plot a histogram of the data with the **fitted Exponential** density overlaid."
      ]
    },
    {
      "cell_type": "code",
      "execution_count": null,
      "id": "b401422e",
      "metadata": {
        "id": "b401422e"
      },
      "outputs": [],
      "source": []
    },
    {
      "cell_type": "markdown",
      "id": "4299cea1",
      "metadata": {
        "id": "4299cea1"
      },
      "source": [
        "## Question 4 — Model Comparison (Visual + AIC)\n",
        "\n"
      ]
    },
    {
      "cell_type": "markdown",
      "id": "91767429",
      "metadata": {
        "id": "91767429"
      },
      "source": [
        "**(a)** Visually compare your overlaid fits from Q2 and Q3. Which model seems better?  "
      ]
    },
    {
      "cell_type": "markdown",
      "id": "ef1966e5",
      "metadata": {
        "id": "ef1966e5"
      },
      "source": []
    },
    {
      "cell_type": "markdown",
      "id": "a26954c1",
      "metadata": {
        "id": "a26954c1"
      },
      "source": [
        "**(b)** Compute **AIC** for both models using the log-likelihoods at the MLEs:\n",
        "$$\n",
        "\\mathrm{AIC} = -2\\,\\ell(\\hat{\\theta}) + 2k,\n",
        "$$\n",
        "where $k$ is the number of parameters (Normal: $k=2$ for $\\mu,\\sigma$; Exponential: $k=1$).  "
      ]
    },
    {
      "cell_type": "code",
      "execution_count": null,
      "id": "dbef2262",
      "metadata": {
        "id": "dbef2262"
      },
      "outputs": [],
      "source": []
    },
    {
      "cell_type": "markdown",
      "id": "43659e37",
      "metadata": {
        "id": "43659e37"
      },
      "source": [
        "**(c)** Which model is preferred by AIC? Briefly justify."
      ]
    },
    {
      "cell_type": "markdown",
      "id": "1a047559",
      "metadata": {
        "id": "1a047559"
      },
      "source": []
    },
    {
      "cell_type": "markdown",
      "id": "e10fa384",
      "metadata": {
        "id": "e10fa384"
      },
      "source": [
        "## Question 5 — Regression under Different Losses\n",
        "\n",
        "Consider the regression dataset (note the last point is a potential outlier):\n",
        "\\[\n",
        "x_reg = (1,2,3,4,5,6,7,8),\\quad\n",
        "y_reg = (2.1, 3.9, 6.0, 8.2, 9.8, 12.1, 14.2, 30.0).\n",
        "\\]\n",
        "\n",
        "We fit $y = \\beta_0 + \\beta_1 x$ under three losses.\n",
        "\n"
      ]
    },
    {
      "cell_type": "markdown",
      "id": "0a7ae8a0",
      "metadata": {
        "id": "0a7ae8a0"
      },
      "source": [
        "**(a)** Compute $(\\hat\\beta_0, \\hat\\beta_1)$ assuming a squared error loss function.\n"
      ]
    },
    {
      "cell_type": "code",
      "execution_count": null,
      "id": "4ea5bf1e",
      "metadata": {
        "id": "4ea5bf1e"
      },
      "outputs": [],
      "source": []
    },
    {
      "cell_type": "markdown",
      "id": "c335f9a3",
      "metadata": {
        "id": "c335f9a3"
      },
      "source": [
        "**(b)** Compute $(\\hat\\beta_0, \\hat\\beta_1)$ assuming an absolute loss function.\n"
      ]
    },
    {
      "cell_type": "code",
      "execution_count": null,
      "id": "da1b41bc",
      "metadata": {
        "id": "da1b41bc"
      },
      "outputs": [],
      "source": []
    },
    {
      "cell_type": "markdown",
      "id": "efb17812",
      "metadata": {
        "id": "efb17812"
      },
      "source": [
        "**(c)** Compute $(\\hat\\beta_0, \\hat\\beta_1)$ assuming a loss function that is equal to the largest difference $y - \\hat{y}$\n"
      ]
    },
    {
      "cell_type": "code",
      "execution_count": null,
      "id": "48d1b434",
      "metadata": {
        "id": "48d1b434"
      },
      "outputs": [],
      "source": []
    },
    {
      "cell_type": "markdown",
      "id": "a0c98989",
      "metadata": {
        "id": "a0c98989"
      },
      "source": [
        "**(d)** Plot the data with **all three** fitted lines on the same axes.  \n"
      ]
    },
    {
      "cell_type": "code",
      "execution_count": null,
      "id": "932f8726",
      "metadata": {
        "id": "932f8726"
      },
      "outputs": [],
      "source": []
    }
  ],
  "metadata": {
    "colab": {
      "provenance": []
    },
    "language_info": {
      "name": "python"
    }
  },
  "nbformat": 4,
  "nbformat_minor": 5
}
