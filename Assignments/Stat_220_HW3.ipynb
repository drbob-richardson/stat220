{
 "cells": [
  {
   "cell_type": "markdown",
   "id": "cde00f3c",
   "metadata": {},
   "source": [
    "[![Open in Colab](https://colab.research.google.com/assets/colab-badge.svg)](https://colab.research.google.com/github/drbob-richardson/stat220/blob/main/Assignments/Stat_220_HW3.ipynb)"
   ]
  },
  {
   "cell_type": "markdown",
   "id": "4ad50bf3",
   "metadata": {},
   "source": [
    "# Homework 3\n",
    "Stat 220"
   ]
  },
  {
   "cell_type": "code",
   "execution_count": null,
   "id": "5327b315",
   "metadata": {},
   "outputs": [],
   "source": [
    "\n",
    "import numpy as np\n",
    "import matplotlib.pyplot as plt\n",
    "from scipy.stats import norm, uniform, expon"
   ]
  },
  {
   "cell_type": "markdown",
   "id": "eb023830",
   "metadata": {},
   "source": [
    "## Problem 1 \n",
    "Let X be a normal random variable with mean 8 and standard deviation 4. Find the following probabilities:"
   ]
  },
  {
   "cell_type": "markdown",
   "id": "6e961dfd",
   "metadata": {},
   "source": [
    "A. $Pr( X > 10)$"
   ]
  },
  {
   "cell_type": "code",
   "execution_count": null,
   "id": "4c515347",
   "metadata": {},
   "outputs": [],
   "source": []
  },
  {
   "cell_type": "markdown",
   "id": "30b560b4",
   "metadata": {},
   "source": [
    "B. Pr(X > 10 and X < 12)"
   ]
  },
  {
   "cell_type": "code",
   "execution_count": null,
   "id": "6b1eef09",
   "metadata": {},
   "outputs": [],
   "source": []
  },
  {
   "cell_type": "markdown",
   "id": "95c50255",
   "metadata": {},
   "source": [
    "C. Pr(X > 10|X < 12)"
   ]
  },
  {
   "cell_type": "code",
   "execution_count": null,
   "id": "8a616905",
   "metadata": {},
   "outputs": [],
   "source": []
  },
  {
   "cell_type": "markdown",
   "id": "798178d6",
   "metadata": {},
   "source": [
    "D. Pr(X > 10|X > 8)"
   ]
  },
  {
   "cell_type": "code",
   "execution_count": null,
   "id": "d4d3f6ec",
   "metadata": {},
   "outputs": [],
   "source": []
  },
  {
   "cell_type": "markdown",
   "id": "b74e1b27",
   "metadata": {},
   "source": [
    "E. Pr(X > 10 and X > 8)"
   ]
  },
  {
   "cell_type": "code",
   "execution_count": null,
   "id": "2fa082a2",
   "metadata": {},
   "outputs": [],
   "source": []
  },
  {
   "cell_type": "markdown",
   "id": "bfedf435",
   "metadata": {},
   "source": [
    "## Problem \n",
    "Airline departure delays (in minutes) are modeled by an exponential distribution with **mean 15 minutes**."
   ]
  },
  {
   "cell_type": "markdown",
   "id": "fe2bb9da",
   "metadata": {},
   "source": [
    "A. What is the rate parameter, $\\lambda$?"
   ]
  },
  {
   "cell_type": "markdown",
   "id": "eb80f673",
   "metadata": {},
   "source": []
  },
  {
   "cell_type": "markdown",
   "id": "f25087ad",
   "metadata": {},
   "source": [
    "B. What is the probability a flight is delayed less than 10 minutes?"
   ]
  },
  {
   "cell_type": "code",
   "execution_count": null,
   "id": "8d52f062",
   "metadata": {},
   "outputs": [],
   "source": []
  },
  {
   "cell_type": "markdown",
   "id": "0bf7f36b",
   "metadata": {},
   "source": [
    "C. What is the probability a flight is delayed more than 30 minutes?"
   ]
  },
  {
   "cell_type": "code",
   "execution_count": null,
   "id": "411794d9",
   "metadata": {},
   "outputs": [],
   "source": []
  },
  {
   "cell_type": "markdown",
   "id": "f727c8f6",
   "metadata": {},
   "source": [
    "D. Find the 75th percentile delay time."
   ]
  },
  {
   "cell_type": "code",
   "execution_count": null,
   "id": "f052eb8a",
   "metadata": {},
   "outputs": [],
   "source": []
  },
  {
   "cell_type": "markdown",
   "id": "16be50b5",
   "metadata": {},
   "source": [
    "## Problem 3\n",
    "A computer simulation generates values uniformly between **100** and **200**.\n"
   ]
  },
  {
   "cell_type": "markdown",
   "id": "70046ef8",
   "metadata": {},
   "source": [
    "A. Compute the mean and variance."
   ]
  },
  {
   "cell_type": "code",
   "execution_count": null,
   "id": "c48d70a7",
   "metadata": {},
   "outputs": [],
   "source": []
  },
  {
   "cell_type": "markdown",
   "id": "05a984cf",
   "metadata": {},
   "source": [
    "B. What is the probability the value falls between 120 and 150?"
   ]
  },
  {
   "cell_type": "code",
   "execution_count": null,
   "id": "a4aebb2c",
   "metadata": {},
   "outputs": [],
   "source": []
  },
  {
   "cell_type": "markdown",
   "id": "45741b2e",
   "metadata": {},
   "source": [
    "C. Find the 10th and 90th percentiles."
   ]
  },
  {
   "cell_type": "code",
   "execution_count": null,
   "id": "9f962d7f",
   "metadata": {},
   "outputs": [],
   "source": []
  },
  {
   "cell_type": "markdown",
   "id": "b0a10da6",
   "metadata": {},
   "source": [
    "## Problem 4:\n",
    "Assume weights of a certain dog breed are $X\\sim \\mathcal{N}(60, 8)$ lbs.\n"
   ]
  },
  {
   "cell_type": "markdown",
   "id": "6c6e3c52",
   "metadata": {},
   "source": [
    "A. Using the **68–95–99.7** rule, approximate:\n",
    "   - $P(52 \\le X \\le 68)$,\n",
    "   - $P(44 \\le X \\le 76)$,\n",
    "   - $P(36 \\le X \\le 84)$."
   ]
  },
  {
   "cell_type": "code",
   "execution_count": null,
   "id": "6237fd8e",
   "metadata": {},
   "outputs": [],
   "source": []
  },
  {
   "cell_type": "markdown",
   "id": "2ba40fcf",
   "metadata": {},
   "source": [
    "B. Compute the exact probabilities with the Normal CDF to compare.\n"
   ]
  },
  {
   "cell_type": "code",
   "execution_count": null,
   "id": "d36f236c",
   "metadata": {},
   "outputs": [],
   "source": []
  },
  {
   "cell_type": "markdown",
   "id": "52ee8e2f",
   "metadata": {},
   "source": [
    "C. Using the Normal table to find $P(X \\le 70)$."
   ]
  },
  {
   "cell_type": "markdown",
   "id": "0442a71e",
   "metadata": {},
   "source": []
  },
  {
   "cell_type": "markdown",
   "id": "d46ae1c9",
   "metadata": {},
   "source": [
    "D. Use scipy functions to find $P(X \\le 70)$. How does it compare?"
   ]
  },
  {
   "cell_type": "code",
   "execution_count": null,
   "id": "b6e6ed9c",
   "metadata": {},
   "outputs": [],
   "source": []
  },
  {
   "cell_type": "markdown",
   "id": "b87d02cf",
   "metadata": {},
   "source": [
    "E. Find the weight that marks the **top 5\\%** of dogs (the 95th percentile).\n"
   ]
  },
  {
   "cell_type": "code",
   "execution_count": null,
   "id": "3769b40f",
   "metadata": {},
   "outputs": [],
   "source": []
  },
  {
   "cell_type": "code",
   "execution_count": null,
   "id": "714e123c",
   "metadata": {},
   "outputs": [],
   "source": [
    "\n",
    "# Problem 4 starter\n",
    "\n",
    "mu, sigma = 60.0, 8.0\n",
    "\n",
    "# TODO: Empirical rule approximations for the three intervals\n",
    "\n",
    "# TODO: Exact probabilities with norm.cdf\n",
    "\n",
    "# TODO: P(X <= 70)\n",
    "\n",
    "# TODO: 95th percentile\n",
    "\n",
    "# TODO: Plot PDF and shade the region [52, 68]\n",
    "# x = np.linspace(mu - 4*sigma, mu + 4*sigma, 800)\n",
    "# pdf = norm.pdf(x, mu, sigma)\n"
   ]
  },
  {
   "cell_type": "markdown",
   "id": "3d5adcae",
   "metadata": {},
   "source": [
    "## Problem 5:\n",
    "Consider the following three random variables:\n",
    "\n",
    "- **A:** $X_A \\sim \\text{Unif}(120, 180)$\n",
    "- **B:** $X_B \\sim \\mathcal{N}(150, 20)$\n",
    "- **C:** $X_C \\sim \\text{Exp}(\\lambda=1/30)$ (units in minutes)\n"
   ]
  },
  {
   "cell_type": "markdown",
   "id": "674233e6",
   "metadata": {},
   "source": [
    "A. Compute (or write down) the **mean** of each distribution and order the means from smallest to largest."
   ]
  },
  {
   "cell_type": "code",
   "execution_count": null,
   "id": "8e248d42",
   "metadata": {},
   "outputs": [],
   "source": []
  },
  {
   "cell_type": "markdown",
   "id": "48168ee7",
   "metadata": {},
   "source": []
  },
  {
   "cell_type": "markdown",
   "id": "a7df3d77",
   "metadata": {},
   "source": [
    "B. Compute the **variance** of each distribution and order the variances from smallest to largest.\n"
   ]
  },
  {
   "cell_type": "code",
   "execution_count": null,
   "id": "9ba3146b",
   "metadata": {},
   "outputs": [],
   "source": []
  },
  {
   "cell_type": "markdown",
   "id": "57d26dc4",
   "metadata": {},
   "source": []
  }
 ],
 "metadata": {
  "language_info": {
   "name": "python"
  }
 },
 "nbformat": 4,
 "nbformat_minor": 5
}
