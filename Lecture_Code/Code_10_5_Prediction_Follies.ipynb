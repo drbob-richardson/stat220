{
 "cells": [
  {
   "cell_type": "markdown",
   "metadata": {},
   "source": [
    "[![Open in Colab](https://colab.research.google.com/assets/colab-badge.svg)](https://colab.research.google.com/github/drbob-richardson/stat220/blob/main/Lecture_Code/Code_10_5_Prediction_Follies.ipynb)"
   ]
  },
  {
   "cell_type": "markdown",
   "metadata": {
    "id": "A3suTSWL9QYH"
   },
   "source": [
    "Import lots of packages"
   ]
  },
  {
   "cell_type": "code",
   "execution_count": 1,
   "metadata": {
    "executionInfo": {
     "elapsed": 2072,
     "status": "ok",
     "timestamp": 1700503790786,
     "user": {
      "displayName": "Robert Richardson",
      "userId": "16108946315450400305"
     },
     "user_tz": 420
    },
    "id": "G09xF8qGm6hB"
   },
   "outputs": [],
   "source": [
    "import pandas as pd\n",
    "import numpy as np\n",
    "import matplotlib.pyplot as plt\n",
    "import statsmodels.formula.api as smf\n",
    "import random\n",
    "from sklearn.preprocessing import PolynomialFeatures\n",
    "from sklearn.model_selection import train_test_split\n",
    "from sklearn.preprocessing import StandardScaler\n"
   ]
  },
  {
   "cell_type": "markdown",
   "metadata": {
    "id": "X3cx46Zq9TK3"
   },
   "source": [
    "Generate fake data using a log regression model."
   ]
  },
  {
   "cell_type": "code",
   "execution_count": 2,
   "metadata": {
    "executionInfo": {
     "elapsed": 324,
     "status": "ok",
     "timestamp": 1700503820429,
     "user": {
      "displayName": "Robert Richardson",
      "userId": "16108946315450400305"
     },
     "user_tz": 420
    },
    "id": "1_7ws70xmoW3"
   },
   "outputs": [],
   "source": [
    "np.random.seed(100)\n",
    "x1 = np.random.normal(0,1,100)\n",
    "\n",
    "Beta_0 = -2\n",
    "Beta_1 = .5\n",
    "\n",
    "y = np.exp(Beta_0 + Beta_1*x1+ np.random.normal(0,.1,100))"
   ]
  },
  {
   "cell_type": "markdown",
   "metadata": {
    "id": "PTgcoijK9t5q"
   },
   "source": [
    "Plot x versus y"
   ]
  },
  {
   "cell_type": "code",
   "execution_count": 3,
   "metadata": {
    "colab": {
     "base_uri": "https://localhost:8080/",
     "height": 447
    },
    "executionInfo": {
     "elapsed": 783,
     "status": "ok",
     "timestamp": 1700503823709,
     "user": {
      "displayName": "Robert Richardson",
      "userId": "16108946315450400305"
     },
     "user_tz": 420
    },
    "id": "Gljpshk8uK9M",
    "outputId": "bedef2bc-2e95-40ff-cc76-dff790f2a3a3"
   },
   "outputs": [
    {
     "data": {
      "text/plain": [
       "<matplotlib.collections.PathCollection at 0x7fce0ccfe7d0>"
      ]
     },
     "execution_count": 3,
     "metadata": {},
     "output_type": "execute_result"
    },
    {
     "data": {
      "image/png": "[encoded data removed]",
      "text/plain": [
       "<Figure size 640x480 with 1 Axes>"
      ]
     },
     "metadata": {},
     "output_type": "display_data"
    }
   ],
   "source": [
    "plt.scatter(x1,y)"
   ]
  },
  {
   "cell_type": "markdown",
   "metadata": {
    "id": "ONIJV-rK9wvN"
   },
   "source": [
    "Instead of using a log regression model (like we should) let's use a quadratic term. Looking at the plot this could be justified."
   ]
  },
  {
   "cell_type": "code",
   "execution_count": 4,
   "metadata": {
    "colab": {
     "base_uri": "https://localhost:8080/",
     "height": 473
    },
    "executionInfo": {
     "elapsed": 330,
     "status": "ok",
     "timestamp": 1700503920684,
     "user": {
      "displayName": "Robert Richardson",
      "userId": "16108946315450400305"
     },
     "user_tz": 420
    },
    "id": "amzBPerDnR7n",
    "outputId": "958e7ddd-df8b-4baa-e4e4-9f57e76bfbdf"
   },
   "outputs": [
    {
     "data": {
      "text/html": [
       "<table class=\"simpletable\">\n",
       "<caption>OLS Regression Results</caption>\n",
       "<tr>\n",
       "  <th>Dep. Variable:</th>            <td>y</td>        <th>  R-squared:         </th> <td>   0.933</td>\n",
       "</tr>\n",
       "<tr>\n",
       "  <th>Model:</th>                   <td>OLS</td>       <th>  Adj. R-squared:    </th> <td>   0.931</td>\n",
       "</tr>\n",
       "<tr>\n",
       "  <th>Method:</th>             <td>Least Squares</td>  <th>  F-statistic:       </th> <td>   671.8</td>\n",
       "</tr>\n",
       "<tr>\n",
       "  <th>Date:</th>             <td>Mon, 20 Nov 2023</td> <th>  Prob (F-statistic):</th> <td>1.47e-57</td>\n",
       "</tr>\n",
       "<tr>\n",
       "  <th>Time:</th>                 <td>18:12:00</td>     <th>  Log-Likelihood:    </th> <td>  256.25</td>\n",
       "</tr>\n",
       "<tr>\n",
       "  <th>No. Observations:</th>      <td>   100</td>      <th>  AIC:               </th> <td>  -506.5</td>\n",
       "</tr>\n",
       "<tr>\n",
       "  <th>Df Residuals:</th>          <td>    97</td>      <th>  BIC:               </th> <td>  -498.7</td>\n",
       "</tr>\n",
       "<tr>\n",
       "  <th>Df Model:</th>              <td>     2</td>      <th>                     </th>     <td> </td>   \n",
       "</tr>\n",
       "<tr>\n",
       "  <th>Covariance Type:</th>      <td>nonrobust</td>    <th>                     </th>     <td> </td>   \n",
       "</tr>\n",
       "</table>\n",
       "<table class=\"simpletable\">\n",
       "<tr>\n",
       "         <td></td>            <th>coef</th>     <th>std err</th>      <th>t</th>      <th>P>|t|</th>  <th>[0.025</th>    <th>0.975]</th>  \n",
       "</tr>\n",
       "<tr>\n",
       "  <th>Intercept</th>       <td>    0.1331</td> <td>    0.002</td> <td>   53.553</td> <td> 0.000</td> <td>    0.128</td> <td>    0.138</td>\n",
       "</tr>\n",
       "<tr>\n",
       "  <th>x1</th>              <td>    0.0726</td> <td>    0.002</td> <td>   36.467</td> <td> 0.000</td> <td>    0.069</td> <td>    0.077</td>\n",
       "</tr>\n",
       "<tr>\n",
       "  <th>np.power(x1, 2)</th> <td>    0.0185</td> <td>    0.002</td> <td>   10.754</td> <td> 0.000</td> <td>    0.015</td> <td>    0.022</td>\n",
       "</tr>\n",
       "</table>\n",
       "<table class=\"simpletable\">\n",
       "<tr>\n",
       "  <th>Omnibus:</th>       <td>16.271</td> <th>  Durbin-Watson:     </th> <td>   2.190</td>\n",
       "</tr>\n",
       "<tr>\n",
       "  <th>Prob(Omnibus):</th> <td> 0.000</td> <th>  Jarque-Bera (JB):  </th> <td>  44.003</td>\n",
       "</tr>\n",
       "<tr>\n",
       "  <th>Skew:</th>          <td> 0.462</td> <th>  Prob(JB):          </th> <td>2.79e-10</td>\n",
       "</tr>\n",
       "<tr>\n",
       "  <th>Kurtosis:</th>      <td> 6.116</td> <th>  Cond. No.          </th> <td>    2.45</td>\n",
       "</tr>\n",
       "</table><br/><br/>Notes:<br/>[1] Standard Errors assume that the covariance matrix of the errors is correctly specified."
      ],
      "text/latex": [
       "\\begin{center}\n",
       "\\begin{tabular}{lclc}\n",
       "\\toprule\n",
       "\\textbf{Dep. Variable:}    &        y         & \\textbf{  R-squared:         } &     0.933   \\\\\n",
       "\\textbf{Model:}            &       OLS        & \\textbf{  Adj. R-squared:    } &     0.931   \\\\\n",
       "\\textbf{Method:}           &  Least Squares   & \\textbf{  F-statistic:       } &     671.8   \\\\\n",
       "\\textbf{Date:}             & Mon, 20 Nov 2023 & \\textbf{  Prob (F-statistic):} &  1.47e-57   \\\\\n",
       "\\textbf{Time:}             &     18:12:00     & \\textbf{  Log-Likelihood:    } &    256.25   \\\\\n",
       "\\textbf{No. Observations:} &         100      & \\textbf{  AIC:               } &    -506.5   \\\\\n",
       "\\textbf{Df Residuals:}     &          97      & \\textbf{  BIC:               } &    -498.7   \\\\\n",
       "\\textbf{Df Model:}         &           2      & \\textbf{                     } &             \\\\\n",
       "\\textbf{Covariance Type:}  &    nonrobust     & \\textbf{                     } &             \\\\\n",
       "\\bottomrule\n",
       "\\end{tabular}\n",
       "\\begin{tabular}{lcccccc}\n",
       "                         & \\textbf{coef} & \\textbf{std err} & \\textbf{t} & \\textbf{P$> |$t$|$} & \\textbf{[0.025} & \\textbf{0.975]}  \\\\\n",
       "\\midrule\n",
       "\\textbf{Intercept}       &       0.1331  &        0.002     &    53.553  &         0.000        &        0.128    &        0.138     \\\\\n",
       "\\textbf{x1}              &       0.0726  &        0.002     &    36.467  &         0.000        &        0.069    &        0.077     \\\\\n",
       "\\textbf{np.power(x1, 2)} &       0.0185  &        0.002     &    10.754  &         0.000        &        0.015    &        0.022     \\\\\n",
       "\\bottomrule\n",
       "\\end{tabular}\n",
       "\\begin{tabular}{lclc}\n",
       "\\textbf{Omnibus:}       & 16.271 & \\textbf{  Durbin-Watson:     } &    2.190  \\\\\n",
       "\\textbf{Prob(Omnibus):} &  0.000 & \\textbf{  Jarque-Bera (JB):  } &   44.003  \\\\\n",
       "\\textbf{Skew:}          &  0.462 & \\textbf{  Prob(JB):          } & 2.79e-10  \\\\\n",
       "\\textbf{Kurtosis:}      &  6.116 & \\textbf{  Cond. No.          } &     2.45  \\\\\n",
       "\\bottomrule\n",
       "\\end{tabular}\n",
       "%\\caption{OLS Regression Results}\n",
       "\\end{center}\n",
       "\n",
       "Notes: \\newline\n",
       " [1] Standard Errors assume that the covariance matrix of the errors is correctly specified."
      ],
      "text/plain": [
       "<class 'statsmodels.iolib.summary.Summary'>\n",
       "\"\"\"\n",
       "                            OLS Regression Results                            \n",
       "==============================================================================\n",
       "Dep. Variable:                      y   R-squared:                       0.933\n",
       "Model:                            OLS   Adj. R-squared:                  0.931\n",
       "Method:                 Least Squares   F-statistic:                     671.8\n",
       "Date:                Mon, 20 Nov 2023   Prob (F-statistic):           1.47e-57\n",
       "Time:                        18:12:00   Log-Likelihood:                 256.25\n",
       "No. Observations:                 100   AIC:                            -506.5\n",
       "Df Residuals:                      97   BIC:                            -498.7\n",
       "Df Model:                           2                                         \n",
       "Covariance Type:            nonrobust                                         \n",
       "===================================================================================\n",
       "                      coef    std err          t      P>|t|      [0.025      0.975]\n",
       "-----------------------------------------------------------------------------------\n",
       "Intercept           0.1331      0.002     53.553      0.000       0.128       0.138\n",
       "x1                  0.0726      0.002     36.467      0.000       0.069       0.077\n",
       "np.power(x1, 2)     0.0185      0.002     10.754      0.000       0.015       0.022\n",
       "==============================================================================\n",
       "Omnibus:                       16.271   Durbin-Watson:                   2.190\n",
       "Prob(Omnibus):                  0.000   Jarque-Bera (JB):               44.003\n",
       "Skew:                           0.462   Prob(JB):                     2.79e-10\n",
       "Kurtosis:                       6.116   Cond. No.                         2.45\n",
       "==============================================================================\n",
       "\n",
       "Notes:\n",
       "[1] Standard Errors assume that the covariance matrix of the errors is correctly specified.\n",
       "\"\"\""
      ]
     },
     "execution_count": 4,
     "metadata": {},
     "output_type": "execute_result"
    }
   ],
   "source": [
    "fake_dat = pd.DataFrame({\"y\":y,\"x1\":x1})\n",
    "mod_reg = smf.ols(\"y ~ x1 + np.power(x1,2) \",fake_dat).fit()\n",
    "mod_reg.summary()"
   ]
  },
  {
   "cell_type": "markdown",
   "metadata": {
    "id": "krWwJTV996Hu"
   },
   "source": [
    "The output looks good. Let's predict at the point x = 0. This is right in the middle of the x's."
   ]
  },
  {
   "cell_type": "code",
   "execution_count": 5,
   "metadata": {
    "colab": {
     "base_uri": "https://localhost:8080/"
    },
    "executionInfo": {
     "elapsed": 3,
     "status": "ok",
     "timestamp": 1700503981951,
     "user": {
      "displayName": "Robert Richardson",
      "userId": "16108946315450400305"
     },
     "user_tz": 420
    },
    "id": "DKpmIWz7onPB",
    "outputId": "afdf8ec3-7650-47f0-9fe2-08a6d59dde03"
   },
   "outputs": [
    {
     "data": {
      "text/plain": [
       "0    0.135335\n",
       "Name: x1, dtype: float64"
      ]
     },
     "execution_count": 5,
     "metadata": {},
     "output_type": "execute_result"
    }
   ],
   "source": [
    "new_data = pd.DataFrame({\"x1\":[0]})\n",
    "trueval = np.exp(Beta_0 + Beta_1*new_data.x1)\n",
    "trueval"
   ]
  },
  {
   "cell_type": "code",
   "execution_count": 6,
   "metadata": {
    "colab": {
     "base_uri": "https://localhost:8080/"
    },
    "executionInfo": {
     "elapsed": 856,
     "status": "ok",
     "timestamp": 1700504025167,
     "user": {
      "displayName": "Robert Richardson",
      "userId": "16108946315450400305"
     },
     "user_tz": 420
    },
    "id": "fjhebejJpwKY",
    "outputId": "5a724d4b-90d6-4d7e-d46b-72899234d46a"
   },
   "outputs": [
    {
     "data": {
      "text/plain": [
       "0    0.133135\n",
       "dtype: float64"
      ]
     },
     "execution_count": 6,
     "metadata": {},
     "output_type": "execute_result"
    }
   ],
   "source": [
    "new_data = pd.DataFrame({\"x1\":[0]})\n",
    "mod_reg.predict(new_data)"
   ]
  },
  {
   "cell_type": "markdown",
   "metadata": {
    "id": "hpF5Lam00BPR"
   },
   "source": [
    "The prediction is pretty close to the truth. It is a good prediction. Now predict at x=1, which is not right in the middle, but pretty close."
   ]
  },
  {
   "cell_type": "code",
   "execution_count": 7,
   "metadata": {
    "colab": {
     "base_uri": "https://localhost:8080/"
    },
    "executionInfo": {
     "elapsed": 882,
     "status": "ok",
     "timestamp": 1700504042633,
     "user": {
      "displayName": "Robert Richardson",
      "userId": "16108946315450400305"
     },
     "user_tz": 420
    },
    "id": "j8e6gkQtp65T",
    "outputId": "711f0c0a-c334-4d6d-d32e-09ff940cc40d"
   },
   "outputs": [
    {
     "name": "stdout",
     "output_type": "stream",
     "text": [
      "0    0.22313\n",
      "Name: x1, dtype: float64\n"
     ]
    },
    {
     "data": {
      "text/plain": [
       "0    0.224279\n",
       "dtype: float64"
      ]
     },
     "execution_count": 7,
     "metadata": {},
     "output_type": "execute_result"
    }
   ],
   "source": [
    "new_data = pd.DataFrame({\"x1\":[1]})\n",
    "trueval = np.exp(Beta_0 + Beta_1*new_data.x1)\n",
    "print(trueval)\n",
    "mod_reg.predict(new_data)\n"
   ]
  },
  {
   "cell_type": "markdown",
   "metadata": {
    "id": "M5pR2Zf_0Ove"
   },
   "source": [
    "Again, pretty good. Now predict at x = 10. This is outside the range of our data. Pretty far outside even, but it's to prove a point."
   ]
  },
  {
   "cell_type": "code",
   "execution_count": 10,
   "metadata": {
    "colab": {
     "base_uri": "https://localhost:8080/"
    },
    "executionInfo": {
     "elapsed": 1056,
     "status": "ok",
     "timestamp": 1700504088292,
     "user": {
      "displayName": "Robert Richardson",
      "userId": "16108946315450400305"
     },
     "user_tz": 420
    },
    "id": "l3LshWk1qKm4",
    "outputId": "2ceb2e17-2aa4-451d-a77e-8ed4a9dfcb6a"
   },
   "outputs": [
    {
     "name": "stdout",
     "output_type": "stream",
     "text": [
      "0    1.0\n",
      "Name: x1, dtype: float64\n"
     ]
    },
    {
     "data": {
      "text/plain": [
       "0    0.719841\n",
       "dtype: float64"
      ]
     },
     "execution_count": 10,
     "metadata": {},
     "output_type": "execute_result"
    }
   ],
   "source": [
    "new_data = pd.DataFrame({\"x1\":[4]})\n",
    "trueval = np.exp(Beta_0 + Beta_1*new_data.x1)\n",
    "print(trueval)\n",
    "mod_reg.predict(new_data)"
   ]
  },
  {
   "cell_type": "markdown",
   "metadata": {
    "id": "zGfsC62k0Wbe"
   },
   "source": [
    "When you predict outside of the range of your x's, this is called extrapolation. Extrapolation is bad. If you have identified the correct system, then it's okay, but usually you are working with the data you have in the shape it's in and that means you don't have the correct system.\n",
    "\n",
    "Folly #1: Don't predict outside of the range of your x's."
   ]
  },
  {
   "cell_type": "markdown",
   "metadata": {
    "id": "lkHkNKJb06GP"
   },
   "source": [
    "Let's build a log regression model. This is in fact, the correct system for our data."
   ]
  },
  {
   "cell_type": "code",
   "execution_count": 11,
   "metadata": {
    "colab": {
     "base_uri": "https://localhost:8080/",
     "height": 451
    },
    "executionInfo": {
     "elapsed": 307,
     "status": "ok",
     "timestamp": 1700504273895,
     "user": {
      "displayName": "Robert Richardson",
      "userId": "16108946315450400305"
     },
     "user_tz": 420
    },
    "id": "XT2cKCPZ7r_B",
    "outputId": "2291887f-3ed5-4658-ec2b-c9f9660fe7ff"
   },
   "outputs": [
    {
     "data": {
      "text/html": [
       "<table class=\"simpletable\">\n",
       "<caption>OLS Regression Results</caption>\n",
       "<tr>\n",
       "  <th>Dep. Variable:</th>        <td>np.log(y)</td>    <th>  R-squared:         </th> <td>   0.952</td>\n",
       "</tr>\n",
       "<tr>\n",
       "  <th>Model:</th>                   <td>OLS</td>       <th>  Adj. R-squared:    </th> <td>   0.952</td>\n",
       "</tr>\n",
       "<tr>\n",
       "  <th>Method:</th>             <td>Least Squares</td>  <th>  F-statistic:       </th> <td>   1944.</td>\n",
       "</tr>\n",
       "<tr>\n",
       "  <th>Date:</th>             <td>Mon, 20 Nov 2023</td> <th>  Prob (F-statistic):</th> <td>1.97e-66</td>\n",
       "</tr>\n",
       "<tr>\n",
       "  <th>Time:</th>                 <td>18:17:53</td>     <th>  Log-Likelihood:    </th> <td>  83.482</td>\n",
       "</tr>\n",
       "<tr>\n",
       "  <th>No. Observations:</th>      <td>   100</td>      <th>  AIC:               </th> <td>  -163.0</td>\n",
       "</tr>\n",
       "<tr>\n",
       "  <th>Df Residuals:</th>          <td>    98</td>      <th>  BIC:               </th> <td>  -157.8</td>\n",
       "</tr>\n",
       "<tr>\n",
       "  <th>Df Model:</th>              <td>     1</td>      <th>                     </th>     <td> </td>   \n",
       "</tr>\n",
       "<tr>\n",
       "  <th>Covariance Type:</th>      <td>nonrobust</td>    <th>                     </th>     <td> </td>   \n",
       "</tr>\n",
       "</table>\n",
       "<table class=\"simpletable\">\n",
       "<tr>\n",
       "      <td></td>         <th>coef</th>     <th>std err</th>      <th>t</th>      <th>P>|t|</th>  <th>[0.025</th>    <th>0.975]</th>  \n",
       "</tr>\n",
       "<tr>\n",
       "  <th>Intercept</th> <td>   -2.0089</td> <td>    0.011</td> <td> -188.309</td> <td> 0.000</td> <td>   -2.030</td> <td>   -1.988</td>\n",
       "</tr>\n",
       "<tr>\n",
       "  <th>x1</th>        <td>    0.4822</td> <td>    0.011</td> <td>   44.090</td> <td> 0.000</td> <td>    0.461</td> <td>    0.504</td>\n",
       "</tr>\n",
       "</table>\n",
       "<table class=\"simpletable\">\n",
       "<tr>\n",
       "  <th>Omnibus:</th>       <td> 0.674</td> <th>  Durbin-Watson:     </th> <td>   2.151</td>\n",
       "</tr>\n",
       "<tr>\n",
       "  <th>Prob(Omnibus):</th> <td> 0.714</td> <th>  Jarque-Bera (JB):  </th> <td>   0.808</td>\n",
       "</tr>\n",
       "<tr>\n",
       "  <th>Skew:</th>          <td> 0.148</td> <th>  Prob(JB):          </th> <td>   0.668</td>\n",
       "</tr>\n",
       "<tr>\n",
       "  <th>Kurtosis:</th>      <td> 2.674</td> <th>  Cond. No.          </th> <td>    1.12</td>\n",
       "</tr>\n",
       "</table><br/><br/>Notes:<br/>[1] Standard Errors assume that the covariance matrix of the errors is correctly specified."
      ],
      "text/latex": [
       "\\begin{center}\n",
       "\\begin{tabular}{lclc}\n",
       "\\toprule\n",
       "\\textbf{Dep. Variable:}    &    np.log(y)     & \\textbf{  R-squared:         } &     0.952   \\\\\n",
       "\\textbf{Model:}            &       OLS        & \\textbf{  Adj. R-squared:    } &     0.952   \\\\\n",
       "\\textbf{Method:}           &  Least Squares   & \\textbf{  F-statistic:       } &     1944.   \\\\\n",
       "\\textbf{Date:}             & Mon, 20 Nov 2023 & \\textbf{  Prob (F-statistic):} &  1.97e-66   \\\\\n",
       "\\textbf{Time:}             &     18:17:53     & \\textbf{  Log-Likelihood:    } &    83.482   \\\\\n",
       "\\textbf{No. Observations:} &         100      & \\textbf{  AIC:               } &    -163.0   \\\\\n",
       "\\textbf{Df Residuals:}     &          98      & \\textbf{  BIC:               } &    -157.8   \\\\\n",
       "\\textbf{Df Model:}         &           1      & \\textbf{                     } &             \\\\\n",
       "\\textbf{Covariance Type:}  &    nonrobust     & \\textbf{                     } &             \\\\\n",
       "\\bottomrule\n",
       "\\end{tabular}\n",
       "\\begin{tabular}{lcccccc}\n",
       "                   & \\textbf{coef} & \\textbf{std err} & \\textbf{t} & \\textbf{P$> |$t$|$} & \\textbf{[0.025} & \\textbf{0.975]}  \\\\\n",
       "\\midrule\n",
       "\\textbf{Intercept} &      -2.0089  &        0.011     &  -188.309  &         0.000        &       -2.030    &       -1.988     \\\\\n",
       "\\textbf{x1}        &       0.4822  &        0.011     &    44.090  &         0.000        &        0.461    &        0.504     \\\\\n",
       "\\bottomrule\n",
       "\\end{tabular}\n",
       "\\begin{tabular}{lclc}\n",
       "\\textbf{Omnibus:}       &  0.674 & \\textbf{  Durbin-Watson:     } &    2.151  \\\\\n",
       "\\textbf{Prob(Omnibus):} &  0.714 & \\textbf{  Jarque-Bera (JB):  } &    0.808  \\\\\n",
       "\\textbf{Skew:}          &  0.148 & \\textbf{  Prob(JB):          } &    0.668  \\\\\n",
       "\\textbf{Kurtosis:}      &  2.674 & \\textbf{  Cond. No.          } &     1.12  \\\\\n",
       "\\bottomrule\n",
       "\\end{tabular}\n",
       "%\\caption{OLS Regression Results}\n",
       "\\end{center}\n",
       "\n",
       "Notes: \\newline\n",
       " [1] Standard Errors assume that the covariance matrix of the errors is correctly specified."
      ],
      "text/plain": [
       "<class 'statsmodels.iolib.summary.Summary'>\n",
       "\"\"\"\n",
       "                            OLS Regression Results                            \n",
       "==============================================================================\n",
       "Dep. Variable:              np.log(y)   R-squared:                       0.952\n",
       "Model:                            OLS   Adj. R-squared:                  0.952\n",
       "Method:                 Least Squares   F-statistic:                     1944.\n",
       "Date:                Mon, 20 Nov 2023   Prob (F-statistic):           1.97e-66\n",
       "Time:                        18:17:53   Log-Likelihood:                 83.482\n",
       "No. Observations:                 100   AIC:                            -163.0\n",
       "Df Residuals:                      98   BIC:                            -157.8\n",
       "Df Model:                           1                                         \n",
       "Covariance Type:            nonrobust                                         \n",
       "==============================================================================\n",
       "                 coef    std err          t      P>|t|      [0.025      0.975]\n",
       "------------------------------------------------------------------------------\n",
       "Intercept     -2.0089      0.011   -188.309      0.000      -2.030      -1.988\n",
       "x1             0.4822      0.011     44.090      0.000       0.461       0.504\n",
       "==============================================================================\n",
       "Omnibus:                        0.674   Durbin-Watson:                   2.151\n",
       "Prob(Omnibus):                  0.714   Jarque-Bera (JB):                0.808\n",
       "Skew:                           0.148   Prob(JB):                        0.668\n",
       "Kurtosis:                       2.674   Cond. No.                         1.12\n",
       "==============================================================================\n",
       "\n",
       "Notes:\n",
       "[1] Standard Errors assume that the covariance matrix of the errors is correctly specified.\n",
       "\"\"\""
      ]
     },
     "execution_count": 11,
     "metadata": {},
     "output_type": "execute_result"
    }
   ],
   "source": [
    "mod_reg_log = smf.ols(\"np.log(y) ~ x1\",fake_dat).fit()\n",
    "mod_reg_log.summary()"
   ]
  },
  {
   "cell_type": "markdown",
   "metadata": {
    "id": "KZzgaypp0_z_"
   },
   "source": [
    "When we predict using this model, the prediction is again bad!"
   ]
  },
  {
   "cell_type": "code",
   "execution_count": 12,
   "metadata": {
    "colab": {
     "base_uri": "https://localhost:8080/"
    },
    "executionInfo": {
     "elapsed": 304,
     "status": "ok",
     "timestamp": 1700504280873,
     "user": {
      "displayName": "Robert Richardson",
      "userId": "16108946315450400305"
     },
     "user_tz": 420
    },
    "id": "Kp4B5Bcr74hO",
    "outputId": "73b9c348-7f7e-44e5-f348-6e93807274f1"
   },
   "outputs": [
    {
     "name": "stdout",
     "output_type": "stream",
     "text": [
      "0    0.135335\n",
      "Name: x1, dtype: float64\n"
     ]
    },
    {
     "data": {
      "text/plain": [
       "0    0.13414\n",
       "dtype: float64"
      ]
     },
     "execution_count": 12,
     "metadata": {},
     "output_type": "execute_result"
    }
   ],
   "source": [
    "new_data = pd.DataFrame({\"x1\":[0]})\n",
    "trueval = np.exp(Beta_0 + Beta_1*new_data.x1)\n",
    "print(trueval)\n",
    "np.exp(mod_reg_log.predict(new_data))"
   ]
  },
  {
   "cell_type": "markdown",
   "metadata": {
    "id": "4_iQ-lOz1Din"
   },
   "source": [
    "If we transform y for the model, we need to transform the predictions back."
   ]
  },
  {
   "cell_type": "code",
   "execution_count": 16,
   "metadata": {
    "colab": {
     "base_uri": "https://localhost:8080/"
    },
    "executionInfo": {
     "elapsed": 440,
     "status": "ok",
     "timestamp": 1700504308040,
     "user": {
      "displayName": "Robert Richardson",
      "userId": "16108946315450400305"
     },
     "user_tz": 420
    },
    "id": "gNxmnV6t7_jA",
    "outputId": "cb1efde4-315b-41d9-9935-e4152b63f097"
   },
   "outputs": [
    {
     "name": "stdout",
     "output_type": "stream",
     "text": [
      "0    1.648721\n",
      "Name: x1, dtype: float64\n"
     ]
    },
    {
     "data": {
      "text/plain": [
       "0    1.495321\n",
       "dtype: float64"
      ]
     },
     "execution_count": 16,
     "metadata": {},
     "output_type": "execute_result"
    }
   ],
   "source": [
    "new_data = pd.DataFrame({\"x1\":[5]})\n",
    "trueval = np.exp(Beta_0 + Beta_1*new_data.x1)\n",
    "print(trueval)\n",
    "np.exp(mod_reg_log.predict(new_data))"
   ]
  },
  {
   "cell_type": "markdown",
   "metadata": {
    "id": "mfCOpLgB1Jz_"
   },
   "source": [
    "Scaling and standardizing the data also transforms the y variable."
   ]
  },
  {
   "cell_type": "code",
   "execution_count": 29,
   "metadata": {
    "colab": {
     "base_uri": "https://localhost:8080/",
     "height": 473
    },
    "executionInfo": {
     "elapsed": 282,
     "status": "ok",
     "timestamp": 1700504713057,
     "user": {
      "displayName": "Robert Richardson",
      "userId": "16108946315450400305"
     },
     "user_tz": 420
    },
    "id": "3NQ7E_w178Ur",
    "outputId": "8b60fe9c-5f11-4963-de2f-dfbca23ed106"
   },
   "outputs": [
    {
     "data": {
      "text/html": [
       "<table class=\"simpletable\">\n",
       "<caption>OLS Regression Results</caption>\n",
       "<tr>\n",
       "  <th>Dep. Variable:</th>            <td>y</td>        <th>  R-squared:         </th> <td>   0.933</td>\n",
       "</tr>\n",
       "<tr>\n",
       "  <th>Model:</th>                   <td>OLS</td>       <th>  Adj. R-squared:    </th> <td>   0.931</td>\n",
       "</tr>\n",
       "<tr>\n",
       "  <th>Method:</th>             <td>Least Squares</td>  <th>  F-statistic:       </th> <td>   671.8</td>\n",
       "</tr>\n",
       "<tr>\n",
       "  <th>Date:</th>             <td>Mon, 20 Nov 2023</td> <th>  Prob (F-statistic):</th> <td>1.47e-57</td>\n",
       "</tr>\n",
       "<tr>\n",
       "  <th>Time:</th>                 <td>18:25:12</td>     <th>  Log-Likelihood:    </th> <td> -6.9865</td>\n",
       "</tr>\n",
       "<tr>\n",
       "  <th>No. Observations:</th>      <td>   100</td>      <th>  AIC:               </th> <td>   19.97</td>\n",
       "</tr>\n",
       "<tr>\n",
       "  <th>Df Residuals:</th>          <td>    97</td>      <th>  BIC:               </th> <td>   27.79</td>\n",
       "</tr>\n",
       "<tr>\n",
       "  <th>Df Model:</th>              <td>     2</td>      <th>                     </th>     <td> </td>   \n",
       "</tr>\n",
       "<tr>\n",
       "  <th>Covariance Type:</th>      <td>nonrobust</td>    <th>                     </th>     <td> </td>   \n",
       "</tr>\n",
       "</table>\n",
       "<table class=\"simpletable\">\n",
       "<tr>\n",
       "         <td></td>            <th>coef</th>     <th>std err</th>      <th>t</th>      <th>P>|t|</th>  <th>[0.025</th>    <th>0.975]</th>  \n",
       "</tr>\n",
       "<tr>\n",
       "  <th>Intercept</th>       <td>   -0.2421</td> <td>    0.035</td> <td>   -6.986</td> <td> 0.000</td> <td>   -0.311</td> <td>   -0.173</td>\n",
       "</tr>\n",
       "<tr>\n",
       "  <th>x1</th>              <td>    0.9276</td> <td>    0.026</td> <td>   35.202</td> <td> 0.000</td> <td>    0.875</td> <td>    0.980</td>\n",
       "</tr>\n",
       "<tr>\n",
       "  <th>np.power(x1, 2)</th> <td>    0.2421</td> <td>    0.023</td> <td>   10.754</td> <td> 0.000</td> <td>    0.197</td> <td>    0.287</td>\n",
       "</tr>\n",
       "</table>\n",
       "<table class=\"simpletable\">\n",
       "<tr>\n",
       "  <th>Omnibus:</th>       <td>16.271</td> <th>  Durbin-Watson:     </th> <td>   2.190</td>\n",
       "</tr>\n",
       "<tr>\n",
       "  <th>Prob(Omnibus):</th> <td> 0.000</td> <th>  Jarque-Bera (JB):  </th> <td>  44.003</td>\n",
       "</tr>\n",
       "<tr>\n",
       "  <th>Skew:</th>          <td> 0.462</td> <th>  Prob(JB):          </th> <td>2.79e-10</td>\n",
       "</tr>\n",
       "<tr>\n",
       "  <th>Kurtosis:</th>      <td> 6.116</td> <th>  Cond. No.          </th> <td>    2.48</td>\n",
       "</tr>\n",
       "</table><br/><br/>Notes:<br/>[1] Standard Errors assume that the covariance matrix of the errors is correctly specified."
      ],
      "text/latex": [
       "\\begin{center}\n",
       "\\begin{tabular}{lclc}\n",
       "\\toprule\n",
       "\\textbf{Dep. Variable:}    &        y         & \\textbf{  R-squared:         } &     0.933   \\\\\n",
       "\\textbf{Model:}            &       OLS        & \\textbf{  Adj. R-squared:    } &     0.931   \\\\\n",
       "\\textbf{Method:}           &  Least Squares   & \\textbf{  F-statistic:       } &     671.8   \\\\\n",
       "\\textbf{Date:}             & Mon, 20 Nov 2023 & \\textbf{  Prob (F-statistic):} &  1.47e-57   \\\\\n",
       "\\textbf{Time:}             &     18:25:12     & \\textbf{  Log-Likelihood:    } &   -6.9865   \\\\\n",
       "\\textbf{No. Observations:} &         100      & \\textbf{  AIC:               } &     19.97   \\\\\n",
       "\\textbf{Df Residuals:}     &          97      & \\textbf{  BIC:               } &     27.79   \\\\\n",
       "\\textbf{Df Model:}         &           2      & \\textbf{                     } &             \\\\\n",
       "\\textbf{Covariance Type:}  &    nonrobust     & \\textbf{                     } &             \\\\\n",
       "\\bottomrule\n",
       "\\end{tabular}\n",
       "\\begin{tabular}{lcccccc}\n",
       "                         & \\textbf{coef} & \\textbf{std err} & \\textbf{t} & \\textbf{P$> |$t$|$} & \\textbf{[0.025} & \\textbf{0.975]}  \\\\\n",
       "\\midrule\n",
       "\\textbf{Intercept}       &      -0.2421  &        0.035     &    -6.986  &         0.000        &       -0.311    &       -0.173     \\\\\n",
       "\\textbf{x1}              &       0.9276  &        0.026     &    35.202  &         0.000        &        0.875    &        0.980     \\\\\n",
       "\\textbf{np.power(x1, 2)} &       0.2421  &        0.023     &    10.754  &         0.000        &        0.197    &        0.287     \\\\\n",
       "\\bottomrule\n",
       "\\end{tabular}\n",
       "\\begin{tabular}{lclc}\n",
       "\\textbf{Omnibus:}       & 16.271 & \\textbf{  Durbin-Watson:     } &    2.190  \\\\\n",
       "\\textbf{Prob(Omnibus):} &  0.000 & \\textbf{  Jarque-Bera (JB):  } &   44.003  \\\\\n",
       "\\textbf{Skew:}          &  0.462 & \\textbf{  Prob(JB):          } & 2.79e-10  \\\\\n",
       "\\textbf{Kurtosis:}      &  6.116 & \\textbf{  Cond. No.          } &     2.48  \\\\\n",
       "\\bottomrule\n",
       "\\end{tabular}\n",
       "%\\caption{OLS Regression Results}\n",
       "\\end{center}\n",
       "\n",
       "Notes: \\newline\n",
       " [1] Standard Errors assume that the covariance matrix of the errors is correctly specified."
      ],
      "text/plain": [
       "<class 'statsmodels.iolib.summary.Summary'>\n",
       "\"\"\"\n",
       "                            OLS Regression Results                            \n",
       "==============================================================================\n",
       "Dep. Variable:                      y   R-squared:                       0.933\n",
       "Model:                            OLS   Adj. R-squared:                  0.931\n",
       "Method:                 Least Squares   F-statistic:                     671.8\n",
       "Date:                Mon, 20 Nov 2023   Prob (F-statistic):           1.47e-57\n",
       "Time:                        18:25:12   Log-Likelihood:                -6.9865\n",
       "No. Observations:                 100   AIC:                             19.97\n",
       "Df Residuals:                      97   BIC:                             27.79\n",
       "Df Model:                           2                                         \n",
       "Covariance Type:            nonrobust                                         \n",
       "===================================================================================\n",
       "                      coef    std err          t      P>|t|      [0.025      0.975]\n",
       "-----------------------------------------------------------------------------------\n",
       "Intercept          -0.2421      0.035     -6.986      0.000      -0.311      -0.173\n",
       "x1                  0.9276      0.026     35.202      0.000       0.875       0.980\n",
       "np.power(x1, 2)     0.2421      0.023     10.754      0.000       0.197       0.287\n",
       "==============================================================================\n",
       "Omnibus:                       16.271   Durbin-Watson:                   2.190\n",
       "Prob(Omnibus):                  0.000   Jarque-Bera (JB):               44.003\n",
       "Skew:                           0.462   Prob(JB):                     2.79e-10\n",
       "Kurtosis:                       6.116   Cond. No.                         2.48\n",
       "==============================================================================\n",
       "\n",
       "Notes:\n",
       "[1] Standard Errors assume that the covariance matrix of the errors is correctly specified.\n",
       "\"\"\""
      ]
     },
     "execution_count": 29,
     "metadata": {},
     "output_type": "execute_result"
    }
   ],
   "source": [
    "scale= StandardScaler()\n",
    "scaled_object = scale.fit(fake_dat)\n",
    "scaled_dat = scale.transform(fake_dat)\n",
    "scaled_dat = pd.DataFrame(scaled_dat,columns = fake_dat.columns)\n",
    "mod_reg_scaled = smf.ols(\"y ~ x1 + np.power(x1,2) \",scaled_dat).fit()\n",
    "mod_reg_scaled.summary()"
   ]
  },
  {
   "cell_type": "code",
   "execution_count": 30,
   "metadata": {
    "colab": {
     "base_uri": "https://localhost:8080/"
    },
    "executionInfo": {
     "elapsed": 282,
     "status": "ok",
     "timestamp": 1700504720737,
     "user": {
      "displayName": "Robert Richardson",
      "userId": "16108946315450400305"
     },
     "user_tz": 420
    },
    "id": "rSD5mWRM8reO",
    "outputId": "0b930e5d-5969-4110-effd-f7480315cfc2"
   },
   "outputs": [
    {
     "name": "stdout",
     "output_type": "stream",
     "text": [
      "0    0.135335\n",
      "Name: x1, dtype: float64\n"
     ]
    },
    {
     "data": {
      "text/plain": [
       "0   -0.242095\n",
       "dtype: float64"
      ]
     },
     "execution_count": 30,
     "metadata": {},
     "output_type": "execute_result"
    }
   ],
   "source": [
    "new_data = pd.DataFrame({\"x1\":[0]})\n",
    "trueval = np.exp(Beta_0 + Beta_1*new_data.x1)\n",
    "print(trueval)\n",
    "mod_reg_scaled.predict(new_data)"
   ]
  },
  {
   "cell_type": "markdown",
   "metadata": {
    "id": "-Si6cLcN5Cox"
   },
   "source": [
    "So we must transform the predictions back in order to compare."
   ]
  },
  {
   "cell_type": "code",
   "execution_count": 31,
   "metadata": {
    "colab": {
     "base_uri": "https://localhost:8080/"
    },
    "executionInfo": {
     "elapsed": 285,
     "status": "ok",
     "timestamp": 1700504722468,
     "user": {
      "displayName": "Robert Richardson",
      "userId": "16108946315450400305"
     },
     "user_tz": 420
    },
    "id": "ZKOcVeQi8xRB",
    "outputId": "8e7270f4-e8bb-4838-a103-14075fd7463b"
   },
   "outputs": [
    {
     "name": "stdout",
     "output_type": "stream",
     "text": [
      "0    0.135335\n",
      "Name: x1, dtype: float64\n"
     ]
    },
    {
     "data": {
      "text/plain": [
       "0    0.12577\n",
       "dtype: float64"
      ]
     },
     "execution_count": 31,
     "metadata": {},
     "output_type": "execute_result"
    }
   ],
   "source": [
    "print(trueval)\n",
    "# Unstandardize by multiplying by the standard deviation of the original data and adding the mean.\n",
    "mod_reg_scaled.predict(new_data)*np.std(fake_dat.y) + np.mean(fake_dat.y)\n",
    "#mod_reg_scaled.predict(new_data)*np.std()"
   ]
  },
  {
   "cell_type": "markdown",
   "metadata": {
    "id": "mL5RmjEu5Sdx"
   },
   "source": [
    "Folly #2: If you transform the target variable, make sure to transform the prediction back!"
   ]
  },
  {
   "cell_type": "markdown",
   "metadata": {
    "id": "QP4NuU4B5PgZ"
   },
   "source": [
    "Lets make a new data set. This is a nonlinear relationship between x and y."
   ]
  },
  {
   "cell_type": "code",
   "execution_count": 32,
   "metadata": {
    "colab": {
     "base_uri": "https://localhost:8080/",
     "height": 447
    },
    "executionInfo": {
     "elapsed": 433,
     "status": "ok",
     "timestamp": 1700504736359,
     "user": {
      "displayName": "Robert Richardson",
      "userId": "16108946315450400305"
     },
     "user_tz": 420
    },
    "id": "fOhtSBlr8FZd",
    "outputId": "95c349e2-175f-45e1-8194-1c990b9e526c"
   },
   "outputs": [
    {
     "data": {
      "text/plain": [
       "<matplotlib.collections.PathCollection at 0x7fce0a6ae440>"
      ]
     },
     "execution_count": 32,
     "metadata": {},
     "output_type": "execute_result"
    },
    {
     "data": {
      "image/png": "[encoded data removed]",
      "text/plain": [
       "<Figure size 640x480 with 1 Axes>"
      ]
     },
     "metadata": {},
     "output_type": "display_data"
    }
   ],
   "source": [
    "x = np.linspace(1,11,1000) + np.random.normal(0,.1,1000)\n",
    "y = 5 + 5*np.sin(11-x)/x + np.random.normal(0,.5,1000)\n",
    "plt.scatter(x,y)"
   ]
  },
  {
   "cell_type": "markdown",
   "metadata": {
    "id": "XcNf6xPN5eiw"
   },
   "source": [
    "Maybe we can use a high order polynomial to estimate the relationship."
   ]
  },
  {
   "cell_type": "code",
   "execution_count": 33,
   "metadata": {
    "colab": {
     "base_uri": "https://localhost:8080/",
     "height": 572
    },
    "executionInfo": {
     "elapsed": 298,
     "status": "ok",
     "timestamp": 1700504792780,
     "user": {
      "displayName": "Robert Richardson",
      "userId": "16108946315450400305"
     },
     "user_tz": 420
    },
    "id": "DnwNhoT6umny",
    "outputId": "4b832e95-f50c-4922-fc2c-32d43cd1db79"
   },
   "outputs": [
    {
     "data": {
      "text/html": [
       "<table class=\"simpletable\">\n",
       "<caption>OLS Regression Results</caption>\n",
       "<tr>\n",
       "  <th>Dep. Variable:</th>            <td>y</td>        <th>  R-squared:         </th> <td>   0.720</td> \n",
       "</tr>\n",
       "<tr>\n",
       "  <th>Model:</th>                   <td>OLS</td>       <th>  Adj. R-squared:    </th> <td>   0.719</td> \n",
       "</tr>\n",
       "<tr>\n",
       "  <th>Method:</th>             <td>Least Squares</td>  <th>  F-statistic:       </th> <td>   511.9</td> \n",
       "</tr>\n",
       "<tr>\n",
       "  <th>Date:</th>             <td>Mon, 20 Nov 2023</td> <th>  Prob (F-statistic):</th> <td>5.60e-272</td>\n",
       "</tr>\n",
       "<tr>\n",
       "  <th>Time:</th>                 <td>18:26:32</td>     <th>  Log-Likelihood:    </th> <td> -757.32</td> \n",
       "</tr>\n",
       "<tr>\n",
       "  <th>No. Observations:</th>      <td>  1000</td>      <th>  AIC:               </th> <td>   1527.</td> \n",
       "</tr>\n",
       "<tr>\n",
       "  <th>Df Residuals:</th>          <td>   994</td>      <th>  BIC:               </th> <td>   1556.</td> \n",
       "</tr>\n",
       "<tr>\n",
       "  <th>Df Model:</th>              <td>     5</td>      <th>                     </th>     <td> </td>    \n",
       "</tr>\n",
       "<tr>\n",
       "  <th>Covariance Type:</th>      <td>nonrobust</td>    <th>                     </th>     <td> </td>    \n",
       "</tr>\n",
       "</table>\n",
       "<table class=\"simpletable\">\n",
       "<tr>\n",
       "         <td></td>           <th>coef</th>     <th>std err</th>      <th>t</th>      <th>P>|t|</th>  <th>[0.025</th>    <th>0.975]</th>  \n",
       "</tr>\n",
       "<tr>\n",
       "  <th>Intercept</th>      <td>   -7.9165</td> <td>    0.420</td> <td>  -18.841</td> <td> 0.000</td> <td>   -8.741</td> <td>   -7.092</td>\n",
       "</tr>\n",
       "<tr>\n",
       "  <th>x</th>              <td>   14.6674</td> <td>    0.526</td> <td>   27.911</td> <td> 0.000</td> <td>   13.636</td> <td>   15.699</td>\n",
       "</tr>\n",
       "<tr>\n",
       "  <th>np.power(x, 2)</th> <td>   -5.1681</td> <td>    0.229</td> <td>  -22.582</td> <td> 0.000</td> <td>   -5.617</td> <td>   -4.719</td>\n",
       "</tr>\n",
       "<tr>\n",
       "  <th>np.power(x, 3)</th> <td>    0.7762</td> <td>    0.045</td> <td>   17.412</td> <td> 0.000</td> <td>    0.689</td> <td>    0.864</td>\n",
       "</tr>\n",
       "<tr>\n",
       "  <th>np.power(x, 4)</th> <td>   -0.0519</td> <td>    0.004</td> <td>  -13.055</td> <td> 0.000</td> <td>   -0.060</td> <td>   -0.044</td>\n",
       "</tr>\n",
       "<tr>\n",
       "  <th>np.power(x, 5)</th> <td>    0.0013</td> <td>    0.000</td> <td>    9.565</td> <td> 0.000</td> <td>    0.001</td> <td>    0.002</td>\n",
       "</tr>\n",
       "</table>\n",
       "<table class=\"simpletable\">\n",
       "<tr>\n",
       "  <th>Omnibus:</th>       <td> 0.374</td> <th>  Durbin-Watson:     </th> <td>   2.006</td>\n",
       "</tr>\n",
       "<tr>\n",
       "  <th>Prob(Omnibus):</th> <td> 0.830</td> <th>  Jarque-Bera (JB):  </th> <td>   0.310</td>\n",
       "</tr>\n",
       "<tr>\n",
       "  <th>Skew:</th>          <td> 0.040</td> <th>  Prob(JB):          </th> <td>   0.856</td>\n",
       "</tr>\n",
       "<tr>\n",
       "  <th>Kurtosis:</th>      <td> 3.032</td> <th>  Cond. No.          </th> <td>2.22e+06</td>\n",
       "</tr>\n",
       "</table><br/><br/>Notes:<br/>[1] Standard Errors assume that the covariance matrix of the errors is correctly specified.<br/>[2] The condition number is large, 2.22e+06. This might indicate that there are<br/>strong multicollinearity or other numerical problems."
      ],
      "text/latex": [
       "\\begin{center}\n",
       "\\begin{tabular}{lclc}\n",
       "\\toprule\n",
       "\\textbf{Dep. Variable:}    &        y         & \\textbf{  R-squared:         } &     0.720   \\\\\n",
       "\\textbf{Model:}            &       OLS        & \\textbf{  Adj. R-squared:    } &     0.719   \\\\\n",
       "\\textbf{Method:}           &  Least Squares   & \\textbf{  F-statistic:       } &     511.9   \\\\\n",
       "\\textbf{Date:}             & Mon, 20 Nov 2023 & \\textbf{  Prob (F-statistic):} & 5.60e-272   \\\\\n",
       "\\textbf{Time:}             &     18:26:32     & \\textbf{  Log-Likelihood:    } &   -757.32   \\\\\n",
       "\\textbf{No. Observations:} &        1000      & \\textbf{  AIC:               } &     1527.   \\\\\n",
       "\\textbf{Df Residuals:}     &         994      & \\textbf{  BIC:               } &     1556.   \\\\\n",
       "\\textbf{Df Model:}         &           5      & \\textbf{                     } &             \\\\\n",
       "\\textbf{Covariance Type:}  &    nonrobust     & \\textbf{                     } &             \\\\\n",
       "\\bottomrule\n",
       "\\end{tabular}\n",
       "\\begin{tabular}{lcccccc}\n",
       "                        & \\textbf{coef} & \\textbf{std err} & \\textbf{t} & \\textbf{P$> |$t$|$} & \\textbf{[0.025} & \\textbf{0.975]}  \\\\\n",
       "\\midrule\n",
       "\\textbf{Intercept}      &      -7.9165  &        0.420     &   -18.841  &         0.000        &       -8.741    &       -7.092     \\\\\n",
       "\\textbf{x}              &      14.6674  &        0.526     &    27.911  &         0.000        &       13.636    &       15.699     \\\\\n",
       "\\textbf{np.power(x, 2)} &      -5.1681  &        0.229     &   -22.582  &         0.000        &       -5.617    &       -4.719     \\\\\n",
       "\\textbf{np.power(x, 3)} &       0.7762  &        0.045     &    17.412  &         0.000        &        0.689    &        0.864     \\\\\n",
       "\\textbf{np.power(x, 4)} &      -0.0519  &        0.004     &   -13.055  &         0.000        &       -0.060    &       -0.044     \\\\\n",
       "\\textbf{np.power(x, 5)} &       0.0013  &        0.000     &     9.565  &         0.000        &        0.001    &        0.002     \\\\\n",
       "\\bottomrule\n",
       "\\end{tabular}\n",
       "\\begin{tabular}{lclc}\n",
       "\\textbf{Omnibus:}       &  0.374 & \\textbf{  Durbin-Watson:     } &    2.006  \\\\\n",
       "\\textbf{Prob(Omnibus):} &  0.830 & \\textbf{  Jarque-Bera (JB):  } &    0.310  \\\\\n",
       "\\textbf{Skew:}          &  0.040 & \\textbf{  Prob(JB):          } &    0.856  \\\\\n",
       "\\textbf{Kurtosis:}      &  3.032 & \\textbf{  Cond. No.          } & 2.22e+06  \\\\\n",
       "\\bottomrule\n",
       "\\end{tabular}\n",
       "%\\caption{OLS Regression Results}\n",
       "\\end{center}\n",
       "\n",
       "Notes: \\newline\n",
       " [1] Standard Errors assume that the covariance matrix of the errors is correctly specified. \\newline\n",
       " [2] The condition number is large, 2.22e+06. This might indicate that there are \\newline\n",
       " strong multicollinearity or other numerical problems."
      ],
      "text/plain": [
       "<class 'statsmodels.iolib.summary.Summary'>\n",
       "\"\"\"\n",
       "                            OLS Regression Results                            \n",
       "==============================================================================\n",
       "Dep. Variable:                      y   R-squared:                       0.720\n",
       "Model:                            OLS   Adj. R-squared:                  0.719\n",
       "Method:                 Least Squares   F-statistic:                     511.9\n",
       "Date:                Mon, 20 Nov 2023   Prob (F-statistic):          5.60e-272\n",
       "Time:                        18:26:32   Log-Likelihood:                -757.32\n",
       "No. Observations:                1000   AIC:                             1527.\n",
       "Df Residuals:                     994   BIC:                             1556.\n",
       "Df Model:                           5                                         \n",
       "Covariance Type:            nonrobust                                         \n",
       "==================================================================================\n",
       "                     coef    std err          t      P>|t|      [0.025      0.975]\n",
       "----------------------------------------------------------------------------------\n",
       "Intercept         -7.9165      0.420    -18.841      0.000      -8.741      -7.092\n",
       "x                 14.6674      0.526     27.911      0.000      13.636      15.699\n",
       "np.power(x, 2)    -5.1681      0.229    -22.582      0.000      -5.617      -4.719\n",
       "np.power(x, 3)     0.7762      0.045     17.412      0.000       0.689       0.864\n",
       "np.power(x, 4)    -0.0519      0.004    -13.055      0.000      -0.060      -0.044\n",
       "np.power(x, 5)     0.0013      0.000      9.565      0.000       0.001       0.002\n",
       "==============================================================================\n",
       "Omnibus:                        0.374   Durbin-Watson:                   2.006\n",
       "Prob(Omnibus):                  0.830   Jarque-Bera (JB):                0.310\n",
       "Skew:                           0.040   Prob(JB):                        0.856\n",
       "Kurtosis:                       3.032   Cond. No.                     2.22e+06\n",
       "==============================================================================\n",
       "\n",
       "Notes:\n",
       "[1] Standard Errors assume that the covariance matrix of the errors is correctly specified.\n",
       "[2] The condition number is large, 2.22e+06. This might indicate that there are\n",
       "strong multicollinearity or other numerical problems.\n",
       "\"\"\""
      ]
     },
     "execution_count": 33,
     "metadata": {},
     "output_type": "execute_result"
    }
   ],
   "source": [
    "sin_dat = pd.DataFrame({\"y\":y,\"x\":x})\n",
    "mod_reg_poly = smf.ols(\"y ~ x + np.power(x,2) + np.power(x,3) + np.power(x,4) + np.power(x,5)\",sin_dat).fit()\n",
    "mod_reg_poly.summary()"
   ]
  },
  {
   "cell_type": "markdown",
   "metadata": {
    "id": "2SpLXy9G50Bx"
   },
   "source": [
    "Plot the fitted line in red and the true line in blue."
   ]
  },
  {
   "cell_type": "code",
   "execution_count": 37,
   "metadata": {
    "colab": {
     "base_uri": "https://localhost:8080/",
     "height": 430
    },
    "executionInfo": {
     "elapsed": 770,
     "status": "ok",
     "timestamp": 1700504864176,
     "user": {
      "displayName": "Robert Richardson",
      "userId": "16108946315450400305"
     },
     "user_tz": 420
    },
    "id": "2nBadarVkkg0",
    "outputId": "fe067224-dc62-4673-bec6-54768235348e"
   },
   "outputs": [
    {
     "data": {
      "image/png": "[encoded data removed]",
      "text/plain": [
       "<Figure size 640x480 with 1 Axes>"
      ]
     },
     "metadata": {},
     "output_type": "display_data"
    }
   ],
   "source": [
    "x_grid = np.linspace(1,18,200)\n",
    "true_line = 5 + 5*np.sin(11-x_grid)/x_grid\n",
    "betas = mod_reg_poly.params\n",
    "fitted_line = betas[0] + betas[1]*x_grid + betas[2]*(x_grid**2) + betas[3]*(x_grid**3) + betas[4]*(x_grid**4) + + betas[5]*(x_grid**5)\n",
    "\n",
    "plt.plot(x_grid,true_line,color=\"b\")\n",
    "plt.plot(x_grid,fitted_line,color=\"r\")\n",
    "plt.scatter(x,y)\n",
    "plt.show()"
   ]
  },
  {
   "cell_type": "markdown",
   "metadata": {
    "id": "I166_L9B55YK"
   },
   "source": [
    "Polynomial predictors get wrecked with even a small amount of exrapolation.\n",
    "\n",
    "Folly #3: A simpler model will often predict better than an overly complicated model. Higher order polynomials for example are notoriously susceptible to divergent predictions."
   ]
  }
 ],
 "metadata": {
  "colab": {
   "authorship_tag": "ABX9TyODgIRq9wZS6zMGxduw6/dh",
   "provenance": []
  },
  "kernelspec": {
   "display_name": "Python 3",
   "name": "python3"
  },
  "language_info": {
   "name": "python"
  }
 },
 "nbformat": 4,
 "nbformat_minor": 0
}
