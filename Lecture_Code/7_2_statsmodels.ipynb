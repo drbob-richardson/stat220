{
  "cells": [
    {
      "cell_type": "markdown",
      "id": "366GZvxwB9WS",
      "metadata": {
        "id": "366GZvxwB9WS"
      },
      "source": [
        "# Introduction to Regression with Scikit-Learn and Statsmodels\n",
        "In this notebook, we will explore two popular Python libraries for performing linear regression: scikit-learn and statsmodels. We'll perform the same task using both libraries, compare the approaches, and calculate key metrics like R² and MSE to evaluate our models."
      ]
    },
    {
      "cell_type": "markdown",
      "id": "RYDFMq9oC8Fn",
      "metadata": {
        "id": "RYDFMq9oC8Fn"
      },
      "source": [
        "Download the pydataset library"
      ]
    },
    {
      "cell_type": "code",
      "execution_count": 13,
      "id": "Su8IrbOxC7eC",
      "metadata": {
        "id": "Su8IrbOxC7eC"
      },
      "outputs": [],
      "source": [
        "%%capture\n",
        "%pip install pydataset"
      ]
    },
    {
      "cell_type": "code",
      "execution_count": 14,
      "id": "fu_AxQfLB9WV",
      "metadata": {
        "id": "fu_AxQfLB9WV"
      },
      "outputs": [],
      "source": [
        "# Import necessary libraries\n",
        "import numpy as np\n",
        "import pandas as pd\n",
        "from sklearn.model_selection import train_test_split\n",
        "from sklearn.linear_model import LinearRegression\n",
        "from sklearn.metrics import mean_squared_error, r2_score\n",
        "import statsmodels.formula.api as smf ## This is a new library we will be learning about\n",
        "from pydataset import data"
      ]
    },
    {
      "cell_type": "markdown",
      "id": "NkC7moJAB9WW",
      "metadata": {
        "id": "NkC7moJAB9WW"
      },
      "source": [
        "Let's reuse the Professor salary data."
      ]
    },
    {
      "cell_type": "code",
      "execution_count": 15,
      "id": "KmVvhvBFB9WW",
      "metadata": {
        "colab": {
          "base_uri": "https://localhost:8080/",
          "height": 363
        },
        "id": "KmVvhvBFB9WW",
        "outputId": "5fe0e676-68cf-43ca-8041-b94a2e4e5d89"
      },
      "outputs": [
        {
          "data": {
            "application/vnd.google.colaboratory.intrinsic+json": {
              "summary": "{\n  \"name\": \"prof\",\n  \"rows\": 397,\n  \"fields\": [\n    {\n      \"column\": \"rank\",\n      \"properties\": {\n        \"dtype\": \"category\",\n        \"num_unique_values\": 3,\n        \"samples\": [\n          \"Prof\",\n          \"AsstProf\",\n          \"AssocProf\"\n        ],\n        \"semantic_type\": \"\",\n        \"description\": \"\"\n      }\n    },\n    {\n      \"column\": \"discipline\",\n      \"properties\": {\n        \"dtype\": \"category\",\n        \"num_unique_values\": 2,\n        \"samples\": [\n          \"A\",\n          \"B\"\n        ],\n        \"semantic_type\": \"\",\n        \"description\": \"\"\n      }\n    },\n    {\n      \"column\": \"yrs.since.phd\",\n      \"properties\": {\n        \"dtype\": \"number\",\n        \"std\": 12,\n        \"min\": 1,\n        \"max\": 56,\n        \"num_unique_values\": 53,\n        \"samples\": [\n          24,\n          42\n        ],\n        \"semantic_type\": \"\",\n        \"description\": \"\"\n      }\n    },\n    {\n      \"column\": \"yrs.service\",\n      \"properties\": {\n        \"dtype\": \"number\",\n        \"std\": 13,\n        \"min\": 0,\n        \"max\": 60,\n        \"num_unique_values\": 52,\n        \"samples\": [\n          4,\n          53\n        ],\n        \"semantic_type\": \"\",\n        \"description\": \"\"\n      }\n    },\n    {\n      \"column\": \"sex\",\n      \"properties\": {\n        \"dtype\": \"category\",\n        \"num_unique_values\": 2,\n        \"samples\": [\n          \"Female\",\n          \"Male\"\n        ],\n        \"semantic_type\": \"\",\n        \"description\": \"\"\n      }\n    },\n    {\n      \"column\": \"salary\",\n      \"properties\": {\n        \"dtype\": \"number\",\n        \"std\": 30289,\n        \"min\": 57800,\n        \"max\": 231545,\n        \"num_unique_values\": 371,\n        \"samples\": [\n          142500,\n          80225\n        ],\n        \"semantic_type\": \"\",\n        \"description\": \"\"\n      }\n    }\n  ]\n}",
              "type": "dataframe",
              "variable_name": "prof"
            },
            "text/html": [
              "\n",
              "  <div id=\"df-613ab755-8583-4c51-a80a-02855b4e18be\" class=\"colab-df-container\">\n",
              "    <div>\n",
              "<style scoped>\n",
              "    .dataframe tbody tr th:only-of-type {\n",
              "        vertical-align: middle;\n",
              "    }\n",
              "\n",
              "    .dataframe tbody tr th {\n",
              "        vertical-align: top;\n",
              "    }\n",
              "\n",
              "    .dataframe thead th {\n",
              "        text-align: right;\n",
              "    }\n",
              "</style>\n",
              "<table border=\"1\" class=\"dataframe\">\n",
              "  <thead>\n",
              "    <tr style=\"text-align: right;\">\n",
              "      <th></th>\n",
              "      <th>rank</th>\n",
              "      <th>discipline</th>\n",
              "      <th>yrs.since.phd</th>\n",
              "      <th>yrs.service</th>\n",
              "      <th>sex</th>\n",
              "      <th>salary</th>\n",
              "    </tr>\n",
              "  </thead>\n",
              "  <tbody>\n",
              "    <tr>\n",
              "      <th>1</th>\n",
              "      <td>Prof</td>\n",
              "      <td>B</td>\n",
              "      <td>19</td>\n",
              "      <td>18</td>\n",
              "      <td>Male</td>\n",
              "      <td>139750</td>\n",
              "    </tr>\n",
              "    <tr>\n",
              "      <th>2</th>\n",
              "      <td>Prof</td>\n",
              "      <td>B</td>\n",
              "      <td>20</td>\n",
              "      <td>16</td>\n",
              "      <td>Male</td>\n",
              "      <td>173200</td>\n",
              "    </tr>\n",
              "    <tr>\n",
              "      <th>3</th>\n",
              "      <td>AsstProf</td>\n",
              "      <td>B</td>\n",
              "      <td>4</td>\n",
              "      <td>3</td>\n",
              "      <td>Male</td>\n",
              "      <td>79750</td>\n",
              "    </tr>\n",
              "    <tr>\n",
              "      <th>4</th>\n",
              "      <td>Prof</td>\n",
              "      <td>B</td>\n",
              "      <td>45</td>\n",
              "      <td>39</td>\n",
              "      <td>Male</td>\n",
              "      <td>115000</td>\n",
              "    </tr>\n",
              "    <tr>\n",
              "      <th>5</th>\n",
              "      <td>Prof</td>\n",
              "      <td>B</td>\n",
              "      <td>40</td>\n",
              "      <td>41</td>\n",
              "      <td>Male</td>\n",
              "      <td>141500</td>\n",
              "    </tr>\n",
              "    <tr>\n",
              "      <th>6</th>\n",
              "      <td>AssocProf</td>\n",
              "      <td>B</td>\n",
              "      <td>6</td>\n",
              "      <td>6</td>\n",
              "      <td>Male</td>\n",
              "      <td>97000</td>\n",
              "    </tr>\n",
              "    <tr>\n",
              "      <th>7</th>\n",
              "      <td>Prof</td>\n",
              "      <td>B</td>\n",
              "      <td>30</td>\n",
              "      <td>23</td>\n",
              "      <td>Male</td>\n",
              "      <td>175000</td>\n",
              "    </tr>\n",
              "    <tr>\n",
              "      <th>8</th>\n",
              "      <td>Prof</td>\n",
              "      <td>B</td>\n",
              "      <td>45</td>\n",
              "      <td>45</td>\n",
              "      <td>Male</td>\n",
              "      <td>147765</td>\n",
              "    </tr>\n",
              "    <tr>\n",
              "      <th>9</th>\n",
              "      <td>Prof</td>\n",
              "      <td>B</td>\n",
              "      <td>21</td>\n",
              "      <td>20</td>\n",
              "      <td>Male</td>\n",
              "      <td>119250</td>\n",
              "    </tr>\n",
              "    <tr>\n",
              "      <th>10</th>\n",
              "      <td>Prof</td>\n",
              "      <td>B</td>\n",
              "      <td>18</td>\n",
              "      <td>18</td>\n",
              "      <td>Female</td>\n",
              "      <td>129000</td>\n",
              "    </tr>\n",
              "  </tbody>\n",
              "</table>\n",
              "</div>\n",
              "    <div class=\"colab-df-buttons\">\n",
              "\n",
              "  <div class=\"colab-df-container\">\n",
              "    <button class=\"colab-df-convert\" onclick=\"convertToInteractive('df-613ab755-8583-4c51-a80a-02855b4e18be')\"\n",
              "            title=\"Convert this dataframe to an interactive table.\"\n",
              "            style=\"display:none;\">\n",
              "\n",
              "  <svg xmlns=\"http://www.w3.org/2000/svg\" height=\"24px\" viewBox=\"0 -960 960 960\">\n",
              "    <path d=\"M120-120v-720h720v720H120Zm60-500h600v-160H180v160Zm220 220h160v-160H400v160Zm0 220h160v-160H400v160ZM180-400h160v-160H180v160Zm440 0h160v-160H620v160ZM180-180h160v-160H180v160Zm440 0h160v-160H620v160Z\"/>\n",
              "  </svg>\n",
              "    </button>\n",
              "\n",
              "  <style>\n",
              "    .colab-df-container {\n",
              "      display:flex;\n",
              "      gap: 12px;\n",
              "    }\n",
              "\n",
              "    .colab-df-convert {\n",
              "      background-color: #E8F0FE;\n",
              "      border: none;\n",
              "      border-radius: 50%;\n",
              "      cursor: pointer;\n",
              "      display: none;\n",
              "      fill: #1967D2;\n",
              "      height: 32px;\n",
              "      padding: 0 0 0 0;\n",
              "      width: 32px;\n",
              "    }\n",
              "\n",
              "    .colab-df-convert:hover {\n",
              "      background-color: #E2EBFA;\n",
              "      box-shadow: 0px 1px 2px rgba(60, 64, 67, 0.3), 0px 1px 3px 1px rgba(60, 64, 67, 0.15);\n",
              "      fill: #174EA6;\n",
              "    }\n",
              "\n",
              "    .colab-df-buttons div {\n",
              "      margin-bottom: 4px;\n",
              "    }\n",
              "\n",
              "    [theme=dark] .colab-df-convert {\n",
              "      background-color: #3B4455;\n",
              "      fill: #D2E3FC;\n",
              "    }\n",
              "\n",
              "    [theme=dark] .colab-df-convert:hover {\n",
              "      background-color: #434B5C;\n",
              "      box-shadow: 0px 1px 3px 1px rgba(0, 0, 0, 0.15);\n",
              "      filter: drop-shadow(0px 1px 2px rgba(0, 0, 0, 0.3));\n",
              "      fill: #FFFFFF;\n",
              "    }\n",
              "  </style>\n",
              "\n",
              "    <script>\n",
              "      const buttonEl =\n",
              "        document.querySelector('#df-613ab755-8583-4c51-a80a-02855b4e18be button.colab-df-convert');\n",
              "      buttonEl.style.display =\n",
              "        google.colab.kernel.accessAllowed ? 'block' : 'none';\n",
              "\n",
              "      async function convertToInteractive(key) {\n",
              "        const element = document.querySelector('#df-613ab755-8583-4c51-a80a-02855b4e18be');\n",
              "        const dataTable =\n",
              "          await google.colab.kernel.invokeFunction('convertToInteractive',\n",
              "                                                    [key], {});\n",
              "        if (!dataTable) return;\n",
              "\n",
              "        const docLinkHtml = 'Like what you see? Visit the ' +\n",
              "          '<a target=\"_blank\" href=https://colab.research.google.com/notebooks/data_table.ipynb>data table notebook</a>'\n",
              "          + ' to learn more about interactive tables.';\n",
              "        element.innerHTML = '';\n",
              "        dataTable['output_type'] = 'display_data';\n",
              "        await google.colab.output.renderOutput(dataTable, element);\n",
              "        const docLink = document.createElement('div');\n",
              "        docLink.innerHTML = docLinkHtml;\n",
              "        element.appendChild(docLink);\n",
              "      }\n",
              "    </script>\n",
              "  </div>\n",
              "\n",
              "\n",
              "<div id=\"df-6dddc10c-37ae-47a3-85d3-ee82bcee4c2b\">\n",
              "  <button class=\"colab-df-quickchart\" onclick=\"quickchart('df-6dddc10c-37ae-47a3-85d3-ee82bcee4c2b')\"\n",
              "            title=\"Suggest charts\"\n",
              "            style=\"display:none;\">\n",
              "\n",
              "<svg xmlns=\"http://www.w3.org/2000/svg\" height=\"24px\"viewBox=\"0 0 24 24\"\n",
              "     width=\"24px\">\n",
              "    <g>\n",
              "        <path d=\"M19 3H5c-1.1 0-2 .9-2 2v14c0 1.1.9 2 2 2h14c1.1 0 2-.9 2-2V5c0-1.1-.9-2-2-2zM9 17H7v-7h2v7zm4 0h-2V7h2v10zm4 0h-2v-4h2v4z\"/>\n",
              "    </g>\n",
              "</svg>\n",
              "  </button>\n",
              "\n",
              "<style>\n",
              "  .colab-df-quickchart {\n",
              "      --bg-color: #E8F0FE;\n",
              "      --fill-color: #1967D2;\n",
              "      --hover-bg-color: #E2EBFA;\n",
              "      --hover-fill-color: #174EA6;\n",
              "      --disabled-fill-color: #AAA;\n",
              "      --disabled-bg-color: #DDD;\n",
              "  }\n",
              "\n",
              "  [theme=dark] .colab-df-quickchart {\n",
              "      --bg-color: #3B4455;\n",
              "      --fill-color: #D2E3FC;\n",
              "      --hover-bg-color: #434B5C;\n",
              "      --hover-fill-color: #FFFFFF;\n",
              "      --disabled-bg-color: #3B4455;\n",
              "      --disabled-fill-color: #666;\n",
              "  }\n",
              "\n",
              "  .colab-df-quickchart {\n",
              "    background-color: var(--bg-color);\n",
              "    border: none;\n",
              "    border-radius: 50%;\n",
              "    cursor: pointer;\n",
              "    display: none;\n",
              "    fill: var(--fill-color);\n",
              "    height: 32px;\n",
              "    padding: 0;\n",
              "    width: 32px;\n",
              "  }\n",
              "\n",
              "  .colab-df-quickchart:hover {\n",
              "    background-color: var(--hover-bg-color);\n",
              "    box-shadow: 0 1px 2px rgba(60, 64, 67, 0.3), 0 1px 3px 1px rgba(60, 64, 67, 0.15);\n",
              "    fill: var(--button-hover-fill-color);\n",
              "  }\n",
              "\n",
              "  .colab-df-quickchart-complete:disabled,\n",
              "  .colab-df-quickchart-complete:disabled:hover {\n",
              "    background-color: var(--disabled-bg-color);\n",
              "    fill: var(--disabled-fill-color);\n",
              "    box-shadow: none;\n",
              "  }\n",
              "\n",
              "  .colab-df-spinner {\n",
              "    border: 2px solid var(--fill-color);\n",
              "    border-color: transparent;\n",
              "    border-bottom-color: var(--fill-color);\n",
              "    animation:\n",
              "      spin 1s steps(1) infinite;\n",
              "  }\n",
              "\n",
              "  @keyframes spin {\n",
              "    0% {\n",
              "      border-color: transparent;\n",
              "      border-bottom-color: var(--fill-color);\n",
              "      border-left-color: var(--fill-color);\n",
              "    }\n",
              "    20% {\n",
              "      border-color: transparent;\n",
              "      border-left-color: var(--fill-color);\n",
              "      border-top-color: var(--fill-color);\n",
              "    }\n",
              "    30% {\n",
              "      border-color: transparent;\n",
              "      border-left-color: var(--fill-color);\n",
              "      border-top-color: var(--fill-color);\n",
              "      border-right-color: var(--fill-color);\n",
              "    }\n",
              "    40% {\n",
              "      border-color: transparent;\n",
              "      border-right-color: var(--fill-color);\n",
              "      border-top-color: var(--fill-color);\n",
              "    }\n",
              "    60% {\n",
              "      border-color: transparent;\n",
              "      border-right-color: var(--fill-color);\n",
              "    }\n",
              "    80% {\n",
              "      border-color: transparent;\n",
              "      border-right-color: var(--fill-color);\n",
              "      border-bottom-color: var(--fill-color);\n",
              "    }\n",
              "    90% {\n",
              "      border-color: transparent;\n",
              "      border-bottom-color: var(--fill-color);\n",
              "    }\n",
              "  }\n",
              "</style>\n",
              "\n",
              "  <script>\n",
              "    async function quickchart(key) {\n",
              "      const quickchartButtonEl =\n",
              "        document.querySelector('#' + key + ' button');\n",
              "      quickchartButtonEl.disabled = true;  // To prevent multiple clicks.\n",
              "      quickchartButtonEl.classList.add('colab-df-spinner');\n",
              "      try {\n",
              "        const charts = await google.colab.kernel.invokeFunction(\n",
              "            'suggestCharts', [key], {});\n",
              "      } catch (error) {\n",
              "        console.error('Error during call to suggestCharts:', error);\n",
              "      }\n",
              "      quickchartButtonEl.classList.remove('colab-df-spinner');\n",
              "      quickchartButtonEl.classList.add('colab-df-quickchart-complete');\n",
              "    }\n",
              "    (() => {\n",
              "      let quickchartButtonEl =\n",
              "        document.querySelector('#df-6dddc10c-37ae-47a3-85d3-ee82bcee4c2b button');\n",
              "      quickchartButtonEl.style.display =\n",
              "        google.colab.kernel.accessAllowed ? 'block' : 'none';\n",
              "    })();\n",
              "  </script>\n",
              "</div>\n",
              "\n",
              "    </div>\n",
              "  </div>\n"
            ],
            "text/plain": [
              "         rank discipline  yrs.since.phd  yrs.service     sex  salary\n",
              "1        Prof          B             19           18    Male  139750\n",
              "2        Prof          B             20           16    Male  173200\n",
              "3    AsstProf          B              4            3    Male   79750\n",
              "4        Prof          B             45           39    Male  115000\n",
              "5        Prof          B             40           41    Male  141500\n",
              "6   AssocProf          B              6            6    Male   97000\n",
              "7        Prof          B             30           23    Male  175000\n",
              "8        Prof          B             45           45    Male  147765\n",
              "9        Prof          B             21           20    Male  119250\n",
              "10       Prof          B             18           18  Female  129000"
            ]
          },
          "execution_count": 15,
          "metadata": {},
          "output_type": "execute_result"
        }
      ],
      "source": [
        "prof = pd.DataFrame(data(\"Salaries\"))\n",
        "prof.head(10)"
      ]
    },
    {
      "cell_type": "markdown",
      "id": "GTzqW71SB9WW",
      "metadata": {
        "id": "GTzqW71SB9WW"
      },
      "source": [
        "### Split the data into train and test sets\n",
        "We'll use the `train_test_split` function from scikit-learn for this."
      ]
    },
    {
      "cell_type": "code",
      "execution_count": 16,
      "id": "b42-wgVpB9WW",
      "metadata": {
        "id": "b42-wgVpB9WW"
      },
      "outputs": [],
      "source": [
        "X = pd.get_dummies(prof[[\"yrs.service\",\"yrs.since.phd\",\"discipline\",\"sex\",\"rank\"]],drop_first = True)\n",
        "y = prof.salary\n",
        "\n",
        "# Splitting the data\n",
        "X_train, X_test, y_train, y_test = train_test_split(X, y, test_size=0.2, random_state=42)"
      ]
    },
    {
      "cell_type": "markdown",
      "id": "T6BwydqnB9WW",
      "metadata": {
        "id": "T6BwydqnB9WW"
      },
      "source": [
        "### Linear Regression with Scikit-Learn"
      ]
    },
    {
      "cell_type": "code",
      "execution_count": 17,
      "id": "I6qqrlKfB9WX",
      "metadata": {
        "colab": {
          "base_uri": "https://localhost:8080/"
        },
        "id": "I6qqrlKfB9WX",
        "outputId": "c72f3e77-ede6-4f8c-a78e-680f2f7d9d56"
      },
      "outputs": [
        {
          "name": "stdout",
          "output_type": "stream",
          "text": [
            "intercept: 76061.88884465527\n"
          ]
        },
        {
          "data": {
            "text/plain": [
              "{'yrs.service': -307.88522912168565,\n",
              " 'yrs.since.phd': 506.78274727003304,\n",
              " 'discipline_B': 16055.497437933664,\n",
              " 'sex_Male': 4365.982288697043,\n",
              " 'rank_AsstProf': -11506.830579395231,\n",
              " 'rank_Prof': 32699.54539854732}"
            ]
          },
          "execution_count": 17,
          "metadata": {},
          "output_type": "execute_result"
        }
      ],
      "source": [
        "# Initialize the LinearRegression model\n",
        "mod_sklearn = LinearRegression()\n",
        "\n",
        "# Fit the model to the training data\n",
        "mod_sklearn.fit(X_train, y_train)\n",
        "\n",
        "# Make predictions on the test data\n",
        "y_pred_sklearn = mod_sklearn.predict(X_test)\n",
        "\n",
        "# Print the coefficients\n",
        "print('intercept:', mod_sklearn.intercept_)\n",
        "dict(zip(X.columns,mod_sklearn.coef_))\n"
      ]
    },
    {
      "cell_type": "code",
      "execution_count": 18,
      "id": "2WGqJhrvDpBW",
      "metadata": {
        "colab": {
          "base_uri": "https://localhost:8080/"
        },
        "id": "2WGqJhrvDpBW",
        "outputId": "5c3408be-da95-4600-8567-6bd1f05086b6"
      },
      "outputs": [
        {
          "name": "stdout",
          "output_type": "stream",
          "text": [
            "Scikit-learn Linear Regression R²: 0.2387\n",
            "Scikit-learn Linear Regression rMSE: 24181.9207\n"
          ]
        }
      ],
      "source": [
        "# Calculate R² and rMSE for scikit-learn\n",
        "r2_sklearn = r2_score(y_test, y_pred_sklearn)\n",
        "rmse_sklearn = np.sqrt(mean_squared_error(y_test, y_pred_sklearn))\n",
        "\n",
        "# Print scikit-learn results\n",
        "print(f'Scikit-learn Linear Regression R²: {r2_sklearn:.4f}')\n",
        "print(f'Scikit-learn Linear Regression rMSE: {rmse_sklearn:.4f}')"
      ]
    },
    {
      "cell_type": "markdown",
      "id": "Itd6nrLaB9WX",
      "metadata": {
        "id": "Itd6nrLaB9WX"
      },
      "source": [
        "### Linear Regression with Statsmodels\n",
        "Now, let's perform the same regression using `statsmodels`."
      ]
    },
    {
      "cell_type": "code",
      "execution_count": 19,
      "id": "ghs3tLNyGdvw",
      "metadata": {
        "colab": {
          "base_uri": "https://localhost:8080/"
        },
        "id": "ghs3tLNyGdvw",
        "outputId": "159f5498-04d1-4027-e99e-00e0e21f2359"
      },
      "outputs": [
        {
          "name": "stdout",
          "output_type": "stream",
          "text": [
            "Before change:\n",
            "Index(['rank', 'discipline', 'yrs.since.phd', 'yrs.service', 'sex', 'salary'], dtype='object')\n",
            "After change:\n",
            "Index(['rank', 'discipline', 'yrs_since_phd', 'yrs_service', 'sex', 'salary'], dtype='object')\n"
          ]
        }
      ],
      "source": [
        "# Difference #0 : Variable names need to match Python variable name conventions\n",
        "# Print column names before the change\n",
        "print(\"Before change:\")\n",
        "print(prof.columns)\n",
        "\n",
        "# Rename columns to replace '.' with '_'\n",
        "prof_clean = prof.rename(columns=lambda x: x.replace('.', '_'))\n",
        "\n",
        "# Print column names after the change\n",
        "print(\"After change:\")\n",
        "print(prof_clean.columns)\n"
      ]
    },
    {
      "cell_type": "code",
      "execution_count": 24,
      "id": "Px2wV0I1B9WX",
      "metadata": {
        "id": "Px2wV0I1B9WX"
      },
      "outputs": [],
      "source": [
        "# DIFFERENCE #1 : There is a way to write formulas in statmodels where you don't need to\n",
        "# create seperate objects for X and y so we will split the full data frame\n",
        "prof_train, prof_test = train_test_split(prof_clean, test_size=0.2, random_state=42)\n",
        "\n",
        "# DIFFERENCE #2: You don't need to specifically create the dummies of your variables\n",
        "\n",
        "\n",
        "# DIFFERENCE #3: We use a formula notation which has the target variable on the left side,\n",
        "# followed by ~ followed by predictors that are separated by a +\n",
        "formula = 'salary ~ yrs_service + yrs_since_phd + discipline + sex + rank'\n",
        "\n",
        "# The syntax here uses the formula, and then the data set where the formula\n",
        "# is getting its variable names from. Here we go ahead and fit it in one step.\n",
        "model_sm = smf.ols(formula, data=prof_train).fit()"
      ]
    },
    {
      "cell_type": "code",
      "execution_count": 21,
      "id": "9Rmk46JHErna",
      "metadata": {
        "colab": {
          "base_uri": "https://localhost:8080/"
        },
        "id": "9Rmk46JHErna",
        "outputId": "57ea629c-524c-4339-8461-e3fa28892cb1"
      },
      "outputs": [
        {
          "name": "stdout",
          "output_type": "stream",
          "text": [
            "Coefficients:\n",
            "Intercept           76061.888845\n",
            "discipline[T.B]     16055.497438\n",
            "sex[T.Male]          4365.982289\n",
            "rank[T.AsstProf]   -11506.830579\n",
            "rank[T.Prof]        32699.545399\n",
            "yrs_service          -307.885229\n",
            "yrs_since_phd         506.782747\n",
            "dtype: float64\n"
          ]
        }
      ],
      "source": [
        "# NOT DIFFERENCE #1: The coefficients will be the same (they may be slightly different when you\n",
        "# split the data randomly both times, but if we used the same splits, they would be the same)\n",
        "print(\"Coefficients:\")\n",
        "print(model_sm.params)"
      ]
    },
    {
      "cell_type": "code",
      "execution_count": 22,
      "id": "8vxoBXcWG6_f",
      "metadata": {
        "colab": {
          "base_uri": "https://localhost:8080/"
        },
        "id": "8vxoBXcWG6_f",
        "outputId": "e7605a00-e74d-4c2d-8446-63d4cdfb4dea"
      },
      "outputs": [
        {
          "name": "stdout",
          "output_type": "stream",
          "text": [
            "Statsmodels Linear Regression R²: 0.2387\n",
            "Statsmodels Linear Regression MSE: 24181.9207\n"
          ]
        }
      ],
      "source": [
        "#NOT DIFFERENCE #2: R^2 and rMSE should be the same\n",
        "\n",
        "# Make predictions on the test data\n",
        "y_pred_sm = model_sm.predict(prof_test)\n",
        "y_test = prof_test.salary\n",
        "\n",
        "# Calculate R² and MSE for statsmodels\n",
        "r2_sm = r2_score(y_test, y_pred_sm)\n",
        "rmse_sm = np.sqrt(mean_squared_error(y_test, y_pred_sm))\n",
        "\n",
        "# Print statsmodels results\n",
        "print(f'Statsmodels Linear Regression R²: {r2_sm:.4f}')\n",
        "print(f'Statsmodels Linear Regression MSE: {rmse_sm:.4f}')"
      ]
    },
    {
      "cell_type": "markdown",
      "id": "cZH_lHM-Hb0g",
      "metadata": {
        "id": "cZH_lHM-Hb0g"
      },
      "source": [
        "The biggest difference between the two as far as the output goes, is that statsmodels provides us with a lot more information we can use for things like uncertainty and errors. We will look at a lot of these numbers to understand them in the next few weeks."
      ]
    },
    {
      "cell_type": "code",
      "execution_count": 23,
      "id": "jMTTgOBUHmr9",
      "metadata": {
        "colab": {
          "base_uri": "https://localhost:8080/",
          "height": 558
        },
        "id": "jMTTgOBUHmr9",
        "outputId": "1f7ddcea-8e7a-4846-9890-a6de3620e58e"
      },
      "outputs": [
        {
          "data": {
            "text/html": [
              "<table class=\"simpletable\">\n",
              "<caption>OLS Regression Results</caption>\n",
              "<tr>\n",
              "  <th>Dep. Variable:</th>         <td>salary</td>      <th>  R-squared:         </th> <td>   0.492</td>\n",
              "</tr>\n",
              "<tr>\n",
              "  <th>Model:</th>                   <td>OLS</td>       <th>  Adj. R-squared:    </th> <td>   0.482</td>\n",
              "</tr>\n",
              "<tr>\n",
              "  <th>Method:</th>             <td>Least Squares</td>  <th>  F-statistic:       </th> <td>   50.04</td>\n",
              "</tr>\n",
              "<tr>\n",
              "  <th>Date:</th>             <td>Mon, 21 Oct 2024</td> <th>  Prob (F-statistic):</th> <td>7.69e-43</td>\n",
              "</tr>\n",
              "<tr>\n",
              "  <th>Time:</th>                 <td>12:51:06</td>     <th>  Log-Likelihood:    </th> <td> -3619.2</td>\n",
              "</tr>\n",
              "<tr>\n",
              "  <th>No. Observations:</th>      <td>   317</td>      <th>  AIC:               </th> <td>   7252.</td>\n",
              "</tr>\n",
              "<tr>\n",
              "  <th>Df Residuals:</th>          <td>   310</td>      <th>  BIC:               </th> <td>   7279.</td>\n",
              "</tr>\n",
              "<tr>\n",
              "  <th>Df Model:</th>              <td>     6</td>      <th>                     </th>     <td> </td>   \n",
              "</tr>\n",
              "<tr>\n",
              "  <th>Covariance Type:</th>      <td>nonrobust</td>    <th>                     </th>     <td> </td>   \n",
              "</tr>\n",
              "</table>\n",
              "<table class=\"simpletable\">\n",
              "<tr>\n",
              "          <td></td>            <th>coef</th>     <th>std err</th>      <th>t</th>      <th>P>|t|</th>  <th>[0.025</th>    <th>0.975]</th>  \n",
              "</tr>\n",
              "<tr>\n",
              "  <th>Intercept</th>        <td> 7.606e+04</td> <td> 5695.823</td> <td>   13.354</td> <td> 0.000</td> <td> 6.49e+04</td> <td> 8.73e+04</td>\n",
              "</tr>\n",
              "<tr>\n",
              "  <th>discipline[T.B]</th>  <td> 1.606e+04</td> <td> 2574.948</td> <td>    6.235</td> <td> 0.000</td> <td>  1.1e+04</td> <td> 2.11e+04</td>\n",
              "</tr>\n",
              "<tr>\n",
              "  <th>sex[T.Male]</th>      <td> 4365.9823</td> <td> 4548.013</td> <td>    0.960</td> <td> 0.338</td> <td>-4582.897</td> <td> 1.33e+04</td>\n",
              "</tr>\n",
              "<tr>\n",
              "  <th>rank[T.AsstProf]</th> <td>-1.151e+04</td> <td> 4586.433</td> <td>   -2.509</td> <td> 0.013</td> <td>-2.05e+04</td> <td>-2482.355</td>\n",
              "</tr>\n",
              "<tr>\n",
              "  <th>rank[T.Prof]</th>     <td>  3.27e+04</td> <td> 3875.540</td> <td>    8.437</td> <td> 0.000</td> <td> 2.51e+04</td> <td> 4.03e+04</td>\n",
              "</tr>\n",
              "<tr>\n",
              "  <th>yrs_service</th>      <td> -307.8852</td> <td>  233.033</td> <td>   -1.321</td> <td> 0.187</td> <td> -766.411</td> <td>  150.641</td>\n",
              "</tr>\n",
              "<tr>\n",
              "  <th>yrs_since_phd</th>    <td>  506.7827</td> <td>  265.463</td> <td>    1.909</td> <td> 0.057</td> <td>  -15.554</td> <td> 1029.119</td>\n",
              "</tr>\n",
              "</table>\n",
              "<table class=\"simpletable\">\n",
              "<tr>\n",
              "  <th>Omnibus:</th>       <td>30.781</td> <th>  Durbin-Watson:     </th> <td>   1.835</td>\n",
              "</tr>\n",
              "<tr>\n",
              "  <th>Prob(Omnibus):</th> <td> 0.000</td> <th>  Jarque-Bera (JB):  </th> <td>  45.038</td>\n",
              "</tr>\n",
              "<tr>\n",
              "  <th>Skew:</th>          <td> 0.647</td> <th>  Prob(JB):          </th> <td>1.66e-10</td>\n",
              "</tr>\n",
              "<tr>\n",
              "  <th>Kurtosis:</th>      <td> 4.317</td> <th>  Cond. No.          </th> <td>    190.</td>\n",
              "</tr>\n",
              "</table><br/><br/>Notes:<br/>[1] Standard Errors assume that the covariance matrix of the errors is correctly specified."
            ],
            "text/latex": [
              "\\begin{center}\n",
              "\\begin{tabular}{lclc}\n",
              "\\toprule\n",
              "\\textbf{Dep. Variable:}    &      salary      & \\textbf{  R-squared:         } &     0.492   \\\\\n",
              "\\textbf{Model:}            &       OLS        & \\textbf{  Adj. R-squared:    } &     0.482   \\\\\n",
              "\\textbf{Method:}           &  Least Squares   & \\textbf{  F-statistic:       } &     50.04   \\\\\n",
              "\\textbf{Date:}             & Mon, 21 Oct 2024 & \\textbf{  Prob (F-statistic):} &  7.69e-43   \\\\\n",
              "\\textbf{Time:}             &     12:51:06     & \\textbf{  Log-Likelihood:    } &   -3619.2   \\\\\n",
              "\\textbf{No. Observations:} &         317      & \\textbf{  AIC:               } &     7252.   \\\\\n",
              "\\textbf{Df Residuals:}     &         310      & \\textbf{  BIC:               } &     7279.   \\\\\n",
              "\\textbf{Df Model:}         &           6      & \\textbf{                     } &             \\\\\n",
              "\\textbf{Covariance Type:}  &    nonrobust     & \\textbf{                     } &             \\\\\n",
              "\\bottomrule\n",
              "\\end{tabular}\n",
              "\\begin{tabular}{lcccccc}\n",
              "                          & \\textbf{coef} & \\textbf{std err} & \\textbf{t} & \\textbf{P$> |$t$|$} & \\textbf{[0.025} & \\textbf{0.975]}  \\\\\n",
              "\\midrule\n",
              "\\textbf{Intercept}        &    7.606e+04  &     5695.823     &    13.354  &         0.000        &     6.49e+04    &     8.73e+04     \\\\\n",
              "\\textbf{discipline[T.B]}  &    1.606e+04  &     2574.948     &     6.235  &         0.000        &      1.1e+04    &     2.11e+04     \\\\\n",
              "\\textbf{sex[T.Male]}      &    4365.9823  &     4548.013     &     0.960  &         0.338        &    -4582.897    &     1.33e+04     \\\\\n",
              "\\textbf{rank[T.AsstProf]} &   -1.151e+04  &     4586.433     &    -2.509  &         0.013        &    -2.05e+04    &    -2482.355     \\\\\n",
              "\\textbf{rank[T.Prof]}     &     3.27e+04  &     3875.540     &     8.437  &         0.000        &     2.51e+04    &     4.03e+04     \\\\\n",
              "\\textbf{yrs\\_service}     &    -307.8852  &      233.033     &    -1.321  &         0.187        &     -766.411    &      150.641     \\\\\n",
              "\\textbf{yrs\\_since\\_phd}  &     506.7827  &      265.463     &     1.909  &         0.057        &      -15.554    &     1029.119     \\\\\n",
              "\\bottomrule\n",
              "\\end{tabular}\n",
              "\\begin{tabular}{lclc}\n",
              "\\textbf{Omnibus:}       & 30.781 & \\textbf{  Durbin-Watson:     } &    1.835  \\\\\n",
              "\\textbf{Prob(Omnibus):} &  0.000 & \\textbf{  Jarque-Bera (JB):  } &   45.038  \\\\\n",
              "\\textbf{Skew:}          &  0.647 & \\textbf{  Prob(JB):          } & 1.66e-10  \\\\\n",
              "\\textbf{Kurtosis:}      &  4.317 & \\textbf{  Cond. No.          } &     190.  \\\\\n",
              "\\bottomrule\n",
              "\\end{tabular}\n",
              "%\\caption{OLS Regression Results}\n",
              "\\end{center}\n",
              "\n",
              "Notes: \\newline\n",
              " [1] Standard Errors assume that the covariance matrix of the errors is correctly specified."
            ],
            "text/plain": [
              "<class 'statsmodels.iolib.summary.Summary'>\n",
              "\"\"\"\n",
              "                            OLS Regression Results                            \n",
              "==============================================================================\n",
              "Dep. Variable:                 salary   R-squared:                       0.492\n",
              "Model:                            OLS   Adj. R-squared:                  0.482\n",
              "Method:                 Least Squares   F-statistic:                     50.04\n",
              "Date:                Mon, 21 Oct 2024   Prob (F-statistic):           7.69e-43\n",
              "Time:                        12:51:06   Log-Likelihood:                -3619.2\n",
              "No. Observations:                 317   AIC:                             7252.\n",
              "Df Residuals:                     310   BIC:                             7279.\n",
              "Df Model:                           6                                         \n",
              "Covariance Type:            nonrobust                                         \n",
              "====================================================================================\n",
              "                       coef    std err          t      P>|t|      [0.025      0.975]\n",
              "------------------------------------------------------------------------------------\n",
              "Intercept         7.606e+04   5695.823     13.354      0.000    6.49e+04    8.73e+04\n",
              "discipline[T.B]   1.606e+04   2574.948      6.235      0.000     1.1e+04    2.11e+04\n",
              "sex[T.Male]       4365.9823   4548.013      0.960      0.338   -4582.897    1.33e+04\n",
              "rank[T.AsstProf] -1.151e+04   4586.433     -2.509      0.013   -2.05e+04   -2482.355\n",
              "rank[T.Prof]       3.27e+04   3875.540      8.437      0.000    2.51e+04    4.03e+04\n",
              "yrs_service       -307.8852    233.033     -1.321      0.187    -766.411     150.641\n",
              "yrs_since_phd      506.7827    265.463      1.909      0.057     -15.554    1029.119\n",
              "==============================================================================\n",
              "Omnibus:                       30.781   Durbin-Watson:                   1.835\n",
              "Prob(Omnibus):                  0.000   Jarque-Bera (JB):               45.038\n",
              "Skew:                           0.647   Prob(JB):                     1.66e-10\n",
              "Kurtosis:                       4.317   Cond. No.                         190.\n",
              "==============================================================================\n",
              "\n",
              "Notes:\n",
              "[1] Standard Errors assume that the covariance matrix of the errors is correctly specified.\n",
              "\"\"\""
            ]
          },
          "execution_count": 23,
          "metadata": {},
          "output_type": "execute_result"
        }
      ],
      "source": [
        "# BIG DIFFERENCE #1\n",
        "model_sm.summary()"
      ]
    },
    {
      "cell_type": "markdown",
      "id": "GNt7bRRsB9WX",
      "metadata": {
        "id": "GNt7bRRsB9WX"
      },
      "source": [
        "### Comparison\n",
        "Both scikit-learn and statsmodels allow us to perform linear regression, but they approach the problem differently.\n",
        "In scikit-learn, the focus is more on machine learning techniques, and the interface is designed for general-purpose model fitting, not just regression.\n",
        "Statsmodels, on the other hand, is specifically designed for statistical analysis and provides more in-depth information about the model (such as p-values, confidence intervals, etc.).\n",
        "Both libraries have their own strengths, and the choice depends on the task at hand."
      ]
    }
  ],
  "metadata": {
    "colab": {
      "provenance": []
    },
    "kernelspec": {
      "display_name": "Python 3",
      "language": "python",
      "name": "python3"
    },
    "language_info": {
      "codemirror_mode": {
        "name": "ipython",
        "version": 3
      },
      "file_extension": ".py",
      "mimetype": "text/x-python",
      "name": "python",
      "nbconvert_exporter": "python",
      "version": "3.9.13"
    }
  },
  "nbformat": 4,
  "nbformat_minor": 5
}
