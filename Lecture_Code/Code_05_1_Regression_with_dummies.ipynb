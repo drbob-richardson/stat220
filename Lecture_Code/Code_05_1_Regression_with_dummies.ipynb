{
 "cells": [
  {
   "cell_type": "markdown",
   "metadata": {},
   "source": [
    "[![Open in Colab](https://colab.research.google.com/assets/colab-badge.svg)](https://colab.research.google.com/github/drbob-richardson/stat220/blob/main/Lecture_Code/Code_05_1_Regression_with_dummies.ipynb)"
   ]
  },
  {
   "cell_type": "markdown",
   "metadata": {
    "id": "AcuBcOusOKTl"
   },
   "source": [
    "Load libraries and data"
   ]
  },
  {
   "cell_type": "code",
   "execution_count": 1,
   "metadata": {
    "colab": {
     "base_uri": "https://localhost:8080/",
     "height": 424
    },
    "executionInfo": {
     "elapsed": 2178,
     "status": "ok",
     "timestamp": 1696868788479,
     "user": {
      "displayName": "Robert Richardson",
      "userId": "16108946315450400305"
     },
     "user_tz": 360
    },
    "id": "mv9OQQE2xTdd",
    "outputId": "64405788-75d6-4c39-b8c3-05d26def0e5f"
   },
   "outputs": [
    {
     "data": {
      "text/html": [
       "<div>\n",
       "<style scoped>\n",
       "    .dataframe tbody tr th:only-of-type {\n",
       "        vertical-align: middle;\n",
       "    }\n",
       "\n",
       "    .dataframe tbody tr th {\n",
       "        vertical-align: top;\n",
       "    }\n",
       "\n",
       "    .dataframe thead th {\n",
       "        text-align: right;\n",
       "    }\n",
       "</style>\n",
       "<table border=\"1\" class=\"dataframe\">\n",
       "  <thead>\n",
       "    <tr style=\"text-align: right;\">\n",
       "      <th></th>\n",
       "      <th>Gender</th>\n",
       "      <th>Age</th>\n",
       "      <th>Study_year</th>\n",
       "      <th>Scholarship</th>\n",
       "      <th>Transporting</th>\n",
       "      <th>expenses</th>\n",
       "    </tr>\n",
       "  </thead>\n",
       "  <tbody>\n",
       "    <tr>\n",
       "      <th>0</th>\n",
       "      <td>Female</td>\n",
       "      <td>21</td>\n",
       "      <td>2</td>\n",
       "      <td>No</td>\n",
       "      <td>No</td>\n",
       "      <td>150</td>\n",
       "    </tr>\n",
       "    <tr>\n",
       "      <th>1</th>\n",
       "      <td>Male</td>\n",
       "      <td>25</td>\n",
       "      <td>3</td>\n",
       "      <td>No</td>\n",
       "      <td>Motorcycle</td>\n",
       "      <td>220</td>\n",
       "    </tr>\n",
       "    <tr>\n",
       "      <th>2</th>\n",
       "      <td>Male</td>\n",
       "      <td>23</td>\n",
       "      <td>2</td>\n",
       "      <td>Yes</td>\n",
       "      <td>No</td>\n",
       "      <td>180</td>\n",
       "    </tr>\n",
       "    <tr>\n",
       "      <th>3</th>\n",
       "      <td>Male</td>\n",
       "      <td>19</td>\n",
       "      <td>3</td>\n",
       "      <td>No</td>\n",
       "      <td>Motorcycle</td>\n",
       "      <td>200</td>\n",
       "    </tr>\n",
       "    <tr>\n",
       "      <th>4</th>\n",
       "      <td>Female</td>\n",
       "      <td>19</td>\n",
       "      <td>2</td>\n",
       "      <td>No</td>\n",
       "      <td>Motorcycle</td>\n",
       "      <td>300</td>\n",
       "    </tr>\n",
       "    <tr>\n",
       "      <th>...</th>\n",
       "      <td>...</td>\n",
       "      <td>...</td>\n",
       "      <td>...</td>\n",
       "      <td>...</td>\n",
       "      <td>...</td>\n",
       "      <td>...</td>\n",
       "    </tr>\n",
       "    <tr>\n",
       "      <th>93</th>\n",
       "      <td>Male</td>\n",
       "      <td>19</td>\n",
       "      <td>3</td>\n",
       "      <td>No</td>\n",
       "      <td>Motorcycle</td>\n",
       "      <td>200</td>\n",
       "    </tr>\n",
       "    <tr>\n",
       "      <th>94</th>\n",
       "      <td>Female</td>\n",
       "      <td>19</td>\n",
       "      <td>2</td>\n",
       "      <td>No</td>\n",
       "      <td>Motorcycle</td>\n",
       "      <td>300</td>\n",
       "    </tr>\n",
       "    <tr>\n",
       "      <th>95</th>\n",
       "      <td>Male</td>\n",
       "      <td>22</td>\n",
       "      <td>3</td>\n",
       "      <td>No</td>\n",
       "      <td>Car</td>\n",
       "      <td>150</td>\n",
       "    </tr>\n",
       "    <tr>\n",
       "      <th>96</th>\n",
       "      <td>Female</td>\n",
       "      <td>21</td>\n",
       "      <td>2</td>\n",
       "      <td>Yes</td>\n",
       "      <td>No</td>\n",
       "      <td>200</td>\n",
       "    </tr>\n",
       "    <tr>\n",
       "      <th>97</th>\n",
       "      <td>Male</td>\n",
       "      <td>22</td>\n",
       "      <td>3</td>\n",
       "      <td>No</td>\n",
       "      <td>Motorcycle</td>\n",
       "      <td>200</td>\n",
       "    </tr>\n",
       "  </tbody>\n",
       "</table>\n",
       "<p>98 rows × 6 columns</p>\n",
       "</div>"
      ],
      "text/plain": [
       "     Gender  Age  Study_year Scholarship Transporting  expenses\n",
       "0   Female    21           2          No           No       150\n",
       "1     Male    25           3          No   Motorcycle       220\n",
       "2     Male    23           2         Yes           No       180\n",
       "3     Male    19           3          No   Motorcycle       200\n",
       "4   Female    19           2          No   Motorcycle       300\n",
       "..      ...  ...         ...         ...          ...       ...\n",
       "93    Male    19           3          No   Motorcycle       200\n",
       "94  Female    19           2          No   Motorcycle       300\n",
       "95    Male    22           3          No          Car       150\n",
       "96  Female    21           2         Yes           No       200\n",
       "97    Male    22           3          No   Motorcycle       200\n",
       "\n",
       "[98 rows x 6 columns]"
      ]
     },
     "metadata": {},
     "output_type": "display_data"
    }
   ],
   "source": [
    "# Importing necessary libraries\n",
    "import pandas as pd\n",
    "import numpy as np\n",
    "import matplotlib.pyplot as plt\n",
    "from sklearn.linear_model import LinearRegression\n",
    "\n",
    "# Loading the dataset\n",
    "exp = pd.read_csv(\"https://richardson.byu.edu/220/student_expenses.csv\")\n",
    "display(exp)  # Display the data (useful in Jupyter-like environments)\n"
   ]
  },
  {
   "cell_type": "markdown",
   "metadata": {
    "id": "WEXrZyAOum_U"
   },
   "source": [
    "Plot the response"
   ]
  },
  {
   "cell_type": "code",
   "execution_count": 2,
   "metadata": {
    "colab": {
     "base_uri": "https://localhost:8080/",
     "height": 472
    },
    "executionInfo": {
     "elapsed": 474,
     "status": "ok",
     "timestamp": 1696868788948,
     "user": {
      "displayName": "Robert Richardson",
      "userId": "16108946315450400305"
     },
     "user_tz": 360
    },
    "id": "3KzlaPe7umOM",
    "outputId": "f8645828-9872-4e70-b312-4e0b0990614a"
   },
   "outputs": [
    {
     "data": {
      "image/png": "[encoded data removed]",
      "text/plain": [
       "<Figure size 640x480 with 1 Axes>"
      ]
     },
     "metadata": {},
     "output_type": "display_data"
    }
   ],
   "source": [
    "# Plotting the histogram of expenses\n",
    "plt.hist(exp.expenses)\n",
    "plt.title(\"Distribution of Expenses\")\n",
    "plt.xlabel(\"Expenses\")\n",
    "plt.ylabel(\"Frequency\")\n",
    "plt.show()"
   ]
  },
  {
   "cell_type": "markdown",
   "metadata": {
    "id": "b4J_xOcAOOxY"
   },
   "source": [
    "Examine the relationship of the response (expenses) to the continuous predictors"
   ]
  },
  {
   "cell_type": "code",
   "execution_count": 3,
   "metadata": {
    "colab": {
     "base_uri": "https://localhost:8080/",
     "height": 927
    },
    "executionInfo": {
     "elapsed": 945,
     "status": "ok",
     "timestamp": 1696868789888,
     "user": {
      "displayName": "Robert Richardson",
      "userId": "16108946315450400305"
     },
     "user_tz": 360
    },
    "id": "YKJDf-kaOfdN",
    "outputId": "e01b3013-0bcd-4a17-ffe9-81972f3b7969"
   },
   "outputs": [
    {
     "data": {
      "image/png": "[encoded data removed]",
      "text/plain": [
       "<Figure size 640x480 with 1 Axes>"
      ]
     },
     "metadata": {},
     "output_type": "display_data"
    },
    {
     "data": {
      "image/png": "[encoded data removed]",
      "text/plain": [
       "<Figure size 640x480 with 1 Axes>"
      ]
     },
     "metadata": {},
     "output_type": "display_data"
    }
   ],
   "source": [
    "# Scatter plot of Age vs Expenses\n",
    "plt.scatter(exp.Age, exp.expenses)\n",
    "plt.xlabel(\"Age\")\n",
    "plt.ylabel(\"Expenses\")\n",
    "plt.title(\"Age vs Expenses\")\n",
    "plt.show()\n",
    "\n",
    "# Scatter plot of Study Year vs Expenses\n",
    "plt.scatter(exp.Study_year, exp.expenses)\n",
    "plt.xlabel(\"Study Year\")\n",
    "plt.ylabel(\"Expenses\")\n",
    "plt.title(\"Study Year vs Expenses\")\n",
    "plt.show()\n",
    "\n"
   ]
  },
  {
   "cell_type": "markdown",
   "metadata": {
    "id": "wTt4V40SWAiW"
   },
   "source": [
    "Examine the relationship of the response (expenses) to the binary and categorical predictors"
   ]
  },
  {
   "cell_type": "code",
   "execution_count": 4,
   "metadata": {
    "colab": {
     "base_uri": "https://localhost:8080/",
     "height": 1000
    },
    "executionInfo": {
     "elapsed": 1229,
     "status": "ok",
     "timestamp": 1696868791114,
     "user": {
      "displayName": "Robert Richardson",
      "userId": "16108946315450400305"
     },
     "user_tz": 360
    },
    "id": "GP4R-3aCUzhH",
    "outputId": "44b1594a-b82c-4356-9bad-4cee4f37cd99"
   },
   "outputs": [
    {
     "data": {
      "image/png": "[encoded data removed]",
      "text/plain": [
       "<Figure size 640x480 with 1 Axes>"
      ]
     },
     "metadata": {},
     "output_type": "display_data"
    },
    {
     "data": {
      "image/png": "[encoded data removed]",
      "text/plain": [
       "<Figure size 640x480 with 1 Axes>"
      ]
     },
     "metadata": {},
     "output_type": "display_data"
    },
    {
     "data": {
      "image/png": "[encoded data removed]",
      "text/plain": [
       "<Figure size 640x480 with 1 Axes>"
      ]
     },
     "metadata": {},
     "output_type": "display_data"
    }
   ],
   "source": [
    "exp[[\"Gender\",\"expenses\"]].boxplot(by=\"Gender\")\n",
    "plt.show()\n",
    "\n",
    "exp[[\"Scholarship\",\"expenses\"]].boxplot(by=\"Scholarship\")\n",
    "plt.show()\n",
    "\n",
    "exp[[\"Transporting\",\"expenses\"]].boxplot(by=\"Transporting\")\n",
    "plt.show()"
   ]
  },
  {
   "cell_type": "markdown",
   "metadata": {
    "id": "LUcobtgpwAjA"
   },
   "source": [
    "Summary of data"
   ]
  },
  {
   "cell_type": "code",
   "execution_count": 5,
   "metadata": {
    "colab": {
     "base_uri": "https://localhost:8080/",
     "height": 300
    },
    "executionInfo": {
     "elapsed": 217,
     "status": "ok",
     "timestamp": 1696868791330,
     "user": {
      "displayName": "Robert Richardson",
      "userId": "16108946315450400305"
     },
     "user_tz": 360
    },
    "id": "K_TuotEswAJr",
    "outputId": "553baa07-8f49-4ad1-adc9-2d1c784cde08"
   },
   "outputs": [
    {
     "data": {
      "text/html": [
       "<div>\n",
       "<style scoped>\n",
       "    .dataframe tbody tr th:only-of-type {\n",
       "        vertical-align: middle;\n",
       "    }\n",
       "\n",
       "    .dataframe tbody tr th {\n",
       "        vertical-align: top;\n",
       "    }\n",
       "\n",
       "    .dataframe thead th {\n",
       "        text-align: right;\n",
       "    }\n",
       "</style>\n",
       "<table border=\"1\" class=\"dataframe\">\n",
       "  <thead>\n",
       "    <tr style=\"text-align: right;\">\n",
       "      <th></th>\n",
       "      <th>Age</th>\n",
       "      <th>Study_year</th>\n",
       "      <th>expenses</th>\n",
       "    </tr>\n",
       "  </thead>\n",
       "  <tbody>\n",
       "    <tr>\n",
       "      <th>count</th>\n",
       "      <td>98.000000</td>\n",
       "      <td>98.000000</td>\n",
       "      <td>98.000000</td>\n",
       "    </tr>\n",
       "    <tr>\n",
       "      <th>mean</th>\n",
       "      <td>20.255102</td>\n",
       "      <td>2.653061</td>\n",
       "      <td>215.612245</td>\n",
       "    </tr>\n",
       "    <tr>\n",
       "      <th>std</th>\n",
       "      <td>1.938813</td>\n",
       "      <td>1.036469</td>\n",
       "      <td>60.650534</td>\n",
       "    </tr>\n",
       "    <tr>\n",
       "      <th>min</th>\n",
       "      <td>17.000000</td>\n",
       "      <td>1.000000</td>\n",
       "      <td>140.000000</td>\n",
       "    </tr>\n",
       "    <tr>\n",
       "      <th>25%</th>\n",
       "      <td>19.000000</td>\n",
       "      <td>2.000000</td>\n",
       "      <td>162.500000</td>\n",
       "    </tr>\n",
       "    <tr>\n",
       "      <th>50%</th>\n",
       "      <td>20.000000</td>\n",
       "      <td>2.500000</td>\n",
       "      <td>200.000000</td>\n",
       "    </tr>\n",
       "    <tr>\n",
       "      <th>75%</th>\n",
       "      <td>22.000000</td>\n",
       "      <td>4.000000</td>\n",
       "      <td>250.000000</td>\n",
       "    </tr>\n",
       "    <tr>\n",
       "      <th>max</th>\n",
       "      <td>25.000000</td>\n",
       "      <td>4.000000</td>\n",
       "      <td>350.000000</td>\n",
       "    </tr>\n",
       "  </tbody>\n",
       "</table>\n",
       "</div>"
      ],
      "text/plain": [
       "             Age  Study_year    expenses\n",
       "count  98.000000   98.000000   98.000000\n",
       "mean   20.255102    2.653061  215.612245\n",
       "std     1.938813    1.036469   60.650534\n",
       "min    17.000000    1.000000  140.000000\n",
       "25%    19.000000    2.000000  162.500000\n",
       "50%    20.000000    2.500000  200.000000\n",
       "75%    22.000000    4.000000  250.000000\n",
       "max    25.000000    4.000000  350.000000"
      ]
     },
     "execution_count": 5,
     "metadata": {},
     "output_type": "execute_result"
    }
   ],
   "source": [
    "exp.describe()"
   ]
  },
  {
   "cell_type": "code",
   "execution_count": 6,
   "metadata": {
    "colab": {
     "base_uri": "https://localhost:8080/",
     "height": 394
    },
    "executionInfo": {
     "elapsed": 9,
     "status": "ok",
     "timestamp": 1696868791330,
     "user": {
      "displayName": "Robert Richardson",
      "userId": "16108946315450400305"
     },
     "user_tz": 360
    },
    "id": "KICfPVEbwLE8",
    "outputId": "557c9566-c12d-459a-cbe8-087e6624118d"
   },
   "outputs": [
    {
     "data": {
      "text/html": [
       "<div>\n",
       "<style scoped>\n",
       "    .dataframe tbody tr th:only-of-type {\n",
       "        vertical-align: middle;\n",
       "    }\n",
       "\n",
       "    .dataframe tbody tr th {\n",
       "        vertical-align: top;\n",
       "    }\n",
       "\n",
       "    .dataframe thead th {\n",
       "        text-align: right;\n",
       "    }\n",
       "</style>\n",
       "<table border=\"1\" class=\"dataframe\">\n",
       "  <thead>\n",
       "    <tr style=\"text-align: right;\">\n",
       "      <th></th>\n",
       "      <th>Gender</th>\n",
       "      <th>Age</th>\n",
       "      <th>Study_year</th>\n",
       "      <th>Scholarship</th>\n",
       "      <th>Transporting</th>\n",
       "      <th>expenses</th>\n",
       "    </tr>\n",
       "  </thead>\n",
       "  <tbody>\n",
       "    <tr>\n",
       "      <th>count</th>\n",
       "      <td>98</td>\n",
       "      <td>98.000000</td>\n",
       "      <td>98.000000</td>\n",
       "      <td>98</td>\n",
       "      <td>98</td>\n",
       "      <td>98.000000</td>\n",
       "    </tr>\n",
       "    <tr>\n",
       "      <th>unique</th>\n",
       "      <td>2</td>\n",
       "      <td>NaN</td>\n",
       "      <td>NaN</td>\n",
       "      <td>2</td>\n",
       "      <td>3</td>\n",
       "      <td>NaN</td>\n",
       "    </tr>\n",
       "    <tr>\n",
       "      <th>top</th>\n",
       "      <td>Female</td>\n",
       "      <td>NaN</td>\n",
       "      <td>NaN</td>\n",
       "      <td>No</td>\n",
       "      <td>No</td>\n",
       "      <td>NaN</td>\n",
       "    </tr>\n",
       "    <tr>\n",
       "      <th>freq</th>\n",
       "      <td>50</td>\n",
       "      <td>NaN</td>\n",
       "      <td>NaN</td>\n",
       "      <td>73</td>\n",
       "      <td>35</td>\n",
       "      <td>NaN</td>\n",
       "    </tr>\n",
       "    <tr>\n",
       "      <th>mean</th>\n",
       "      <td>NaN</td>\n",
       "      <td>20.255102</td>\n",
       "      <td>2.653061</td>\n",
       "      <td>NaN</td>\n",
       "      <td>NaN</td>\n",
       "      <td>215.612245</td>\n",
       "    </tr>\n",
       "    <tr>\n",
       "      <th>std</th>\n",
       "      <td>NaN</td>\n",
       "      <td>1.938813</td>\n",
       "      <td>1.036469</td>\n",
       "      <td>NaN</td>\n",
       "      <td>NaN</td>\n",
       "      <td>60.650534</td>\n",
       "    </tr>\n",
       "    <tr>\n",
       "      <th>min</th>\n",
       "      <td>NaN</td>\n",
       "      <td>17.000000</td>\n",
       "      <td>1.000000</td>\n",
       "      <td>NaN</td>\n",
       "      <td>NaN</td>\n",
       "      <td>140.000000</td>\n",
       "    </tr>\n",
       "    <tr>\n",
       "      <th>25%</th>\n",
       "      <td>NaN</td>\n",
       "      <td>19.000000</td>\n",
       "      <td>2.000000</td>\n",
       "      <td>NaN</td>\n",
       "      <td>NaN</td>\n",
       "      <td>162.500000</td>\n",
       "    </tr>\n",
       "    <tr>\n",
       "      <th>50%</th>\n",
       "      <td>NaN</td>\n",
       "      <td>20.000000</td>\n",
       "      <td>2.500000</td>\n",
       "      <td>NaN</td>\n",
       "      <td>NaN</td>\n",
       "      <td>200.000000</td>\n",
       "    </tr>\n",
       "    <tr>\n",
       "      <th>75%</th>\n",
       "      <td>NaN</td>\n",
       "      <td>22.000000</td>\n",
       "      <td>4.000000</td>\n",
       "      <td>NaN</td>\n",
       "      <td>NaN</td>\n",
       "      <td>250.000000</td>\n",
       "    </tr>\n",
       "    <tr>\n",
       "      <th>max</th>\n",
       "      <td>NaN</td>\n",
       "      <td>25.000000</td>\n",
       "      <td>4.000000</td>\n",
       "      <td>NaN</td>\n",
       "      <td>NaN</td>\n",
       "      <td>350.000000</td>\n",
       "    </tr>\n",
       "  </tbody>\n",
       "</table>\n",
       "</div>"
      ],
      "text/plain": [
       "         Gender        Age  Study_year Scholarship Transporting    expenses\n",
       "count        98  98.000000   98.000000          98           98   98.000000\n",
       "unique        2        NaN         NaN           2            3         NaN\n",
       "top     Female         NaN         NaN          No           No         NaN\n",
       "freq         50        NaN         NaN          73           35         NaN\n",
       "mean        NaN  20.255102    2.653061         NaN          NaN  215.612245\n",
       "std         NaN   1.938813    1.036469         NaN          NaN   60.650534\n",
       "min         NaN  17.000000    1.000000         NaN          NaN  140.000000\n",
       "25%         NaN  19.000000    2.000000         NaN          NaN  162.500000\n",
       "50%         NaN  20.000000    2.500000         NaN          NaN  200.000000\n",
       "75%         NaN  22.000000    4.000000         NaN          NaN  250.000000\n",
       "max         NaN  25.000000    4.000000         NaN          NaN  350.000000"
      ]
     },
     "execution_count": 6,
     "metadata": {},
     "output_type": "execute_result"
    }
   ],
   "source": [
    "exp.describe(include = \"all\")"
   ]
  },
  {
   "cell_type": "markdown",
   "metadata": {
    "id": "Kx2UH3Y8WP3W"
   },
   "source": [
    "Fit a regression model with Age as the only predictor"
   ]
  },
  {
   "cell_type": "code",
   "execution_count": 7,
   "metadata": {
    "colab": {
     "base_uri": "https://localhost:8080/"
    },
    "executionInfo": {
     "elapsed": 242,
     "status": "ok",
     "timestamp": 1696868791564,
     "user": {
      "displayName": "Robert Richardson",
      "userId": "16108946315450400305"
     },
     "user_tz": 360
    },
    "id": "HV6yMCroVPAW",
    "outputId": "230f7624-4dd4-4331-b965-abfb9bfa4dc0"
   },
   "outputs": [
    {
     "name": "stdout",
     "output_type": "stream",
     "text": [
      "intercept: 65.6418436739149\n",
      "Age: [7.40408026]\n"
     ]
    }
   ],
   "source": [
    "X = exp[[\"Age\"]]\n",
    "y = exp[\"expenses\"]\n",
    "\n",
    "# Import regression libraries\n",
    "from sklearn.linear_model import LinearRegression\n",
    "\n",
    "# Initialize a regression\n",
    "reg_prep = LinearRegression()\n",
    "\n",
    "# Fit the regression\n",
    "mod_reg = reg_prep.fit(X,y)\n",
    "\n",
    "# Print the intercept\n",
    "print('intercept:', mod_reg.intercept_)\n",
    "\n",
    "# Print the coefficient Beta_1:\n",
    "print('Age:', mod_reg.coef_)"
   ]
  },
  {
   "cell_type": "markdown",
   "metadata": {
    "id": "I9OWxWguWRGY"
   },
   "source": [
    "Add Age and Study year. How does the coefficient for Age change? What does the coefficients now mean?"
   ]
  },
  {
   "cell_type": "code",
   "execution_count": 8,
   "metadata": {
    "colab": {
     "base_uri": "https://localhost:8080/"
    },
    "executionInfo": {
     "elapsed": 17,
     "status": "ok",
     "timestamp": 1696868791564,
     "user": {
      "displayName": "Robert Richardson",
      "userId": "16108946315450400305"
     },
     "user_tz": 360
    },
    "id": "CUo-7veDSEnO",
    "outputId": "5a6673dc-7637-4813-bb00-9fd2bde90919"
   },
   "outputs": [
    {
     "name": "stdout",
     "output_type": "stream",
     "text": [
      "intercept: 119.84903183459134\n",
      "Age: 3.274008783034057\n",
      "Study_year: 11.099567099567098\n"
     ]
    }
   ],
   "source": [
    "X = exp[[\"Age\",\"Study_year\"]]\n",
    "y = exp[\"expenses\"]\n",
    "\n",
    "# Initialize a regression\n",
    "reg_prep = LinearRegression()\n",
    "\n",
    "# Fit the regression\n",
    "mod_reg = reg_prep.fit(X,y)\n",
    "\n",
    "# Print the intercept\n",
    "print('intercept:', mod_reg.intercept_)\n",
    "\n",
    "# Print the coefficient Beta_1:\n",
    "print('Age:', mod_reg.coef_[0])\n",
    "\n",
    "# Print the coefficient Beta_2:\n",
    "print('Study_year:', mod_reg.coef_[1])"
   ]
  },
  {
   "cell_type": "markdown",
   "metadata": {
    "id": "vuOeup6tWkFJ"
   },
   "source": [
    "\n",
    "Use Age, Study year, and Gender as predictors. Gender is coded as \"Female\" and \"Male\". This is not fit for a linear model."
   ]
  },
  {
   "cell_type": "code",
   "execution_count": 9,
   "metadata": {
    "executionInfo": {
     "elapsed": 16,
     "status": "ok",
     "timestamp": 1696868791565,
     "user": {
      "displayName": "Robert Richardson",
      "userId": "16108946315450400305"
     },
     "user_tz": 360
    },
    "id": "4EAhCMo0Vl7Y"
   },
   "outputs": [],
   "source": [
    "X = exp[[\"Age\",\"Study_year\",\"Gender\"]]\n",
    "y = exp[\"expenses\"]\n",
    "\n",
    "# Initialize a regression\n",
    "reg_prep = LinearRegression()\n",
    "\n",
    "# Fit the regression\n",
    "#Uncomment below\n",
    "#mod_reg = reg_prep.fit(X,y)\n"
   ]
  },
  {
   "cell_type": "markdown",
   "metadata": {
    "id": "dFyHXdQWW-xI"
   },
   "source": [
    "Turn the Gender variable into 0's and 1's. Sometimes called \"one hot encoding\"."
   ]
  },
  {
   "cell_type": "code",
   "execution_count": 10,
   "metadata": {
    "colab": {
     "base_uri": "https://localhost:8080/",
     "height": 424
    },
    "executionInfo": {
     "elapsed": 15,
     "status": "ok",
     "timestamp": 1696868791565,
     "user": {
      "displayName": "Robert Richardson",
      "userId": "16108946315450400305"
     },
     "user_tz": 360
    },
    "id": "1oq56MQWWc-g",
    "outputId": "6dd97ffd-55b1-4736-8b04-23691f6590bb"
   },
   "outputs": [
    {
     "data": {
      "text/html": [
       "<div>\n",
       "<style scoped>\n",
       "    .dataframe tbody tr th:only-of-type {\n",
       "        vertical-align: middle;\n",
       "    }\n",
       "\n",
       "    .dataframe tbody tr th {\n",
       "        vertical-align: top;\n",
       "    }\n",
       "\n",
       "    .dataframe thead th {\n",
       "        text-align: right;\n",
       "    }\n",
       "</style>\n",
       "<table border=\"1\" class=\"dataframe\">\n",
       "  <thead>\n",
       "    <tr style=\"text-align: right;\">\n",
       "      <th></th>\n",
       "      <th>Age</th>\n",
       "      <th>Study_year</th>\n",
       "      <th>Gender_Female</th>\n",
       "      <th>Gender_Male</th>\n",
       "    </tr>\n",
       "  </thead>\n",
       "  <tbody>\n",
       "    <tr>\n",
       "      <th>0</th>\n",
       "      <td>21</td>\n",
       "      <td>2</td>\n",
       "      <td>True</td>\n",
       "      <td>False</td>\n",
       "    </tr>\n",
       "    <tr>\n",
       "      <th>1</th>\n",
       "      <td>25</td>\n",
       "      <td>3</td>\n",
       "      <td>False</td>\n",
       "      <td>True</td>\n",
       "    </tr>\n",
       "    <tr>\n",
       "      <th>2</th>\n",
       "      <td>23</td>\n",
       "      <td>2</td>\n",
       "      <td>False</td>\n",
       "      <td>True</td>\n",
       "    </tr>\n",
       "    <tr>\n",
       "      <th>3</th>\n",
       "      <td>19</td>\n",
       "      <td>3</td>\n",
       "      <td>False</td>\n",
       "      <td>True</td>\n",
       "    </tr>\n",
       "    <tr>\n",
       "      <th>4</th>\n",
       "      <td>19</td>\n",
       "      <td>2</td>\n",
       "      <td>True</td>\n",
       "      <td>False</td>\n",
       "    </tr>\n",
       "    <tr>\n",
       "      <th>...</th>\n",
       "      <td>...</td>\n",
       "      <td>...</td>\n",
       "      <td>...</td>\n",
       "      <td>...</td>\n",
       "    </tr>\n",
       "    <tr>\n",
       "      <th>93</th>\n",
       "      <td>19</td>\n",
       "      <td>3</td>\n",
       "      <td>False</td>\n",
       "      <td>True</td>\n",
       "    </tr>\n",
       "    <tr>\n",
       "      <th>94</th>\n",
       "      <td>19</td>\n",
       "      <td>2</td>\n",
       "      <td>True</td>\n",
       "      <td>False</td>\n",
       "    </tr>\n",
       "    <tr>\n",
       "      <th>95</th>\n",
       "      <td>22</td>\n",
       "      <td>3</td>\n",
       "      <td>False</td>\n",
       "      <td>True</td>\n",
       "    </tr>\n",
       "    <tr>\n",
       "      <th>96</th>\n",
       "      <td>21</td>\n",
       "      <td>2</td>\n",
       "      <td>True</td>\n",
       "      <td>False</td>\n",
       "    </tr>\n",
       "    <tr>\n",
       "      <th>97</th>\n",
       "      <td>22</td>\n",
       "      <td>3</td>\n",
       "      <td>False</td>\n",
       "      <td>True</td>\n",
       "    </tr>\n",
       "  </tbody>\n",
       "</table>\n",
       "<p>98 rows × 4 columns</p>\n",
       "</div>"
      ],
      "text/plain": [
       "    Age  Study_year  Gender_Female   Gender_Male \n",
       "0    21           2            True         False\n",
       "1    25           3           False          True\n",
       "2    23           2           False          True\n",
       "3    19           3           False          True\n",
       "4    19           2            True         False\n",
       "..  ...         ...             ...           ...\n",
       "93   19           3           False          True\n",
       "94   19           2            True         False\n",
       "95   22           3           False          True\n",
       "96   21           2            True         False\n",
       "97   22           3           False          True\n",
       "\n",
       "[98 rows x 4 columns]"
      ]
     },
     "execution_count": 10,
     "metadata": {},
     "output_type": "execute_result"
    }
   ],
   "source": [
    "predictors = exp[[\"Age\",\"Study_year\",\"Gender\"]]\n",
    "X = pd.get_dummies(predictors)\n",
    "y = exp[\"expenses\"]\n",
    "\n",
    "X"
   ]
  },
  {
   "cell_type": "markdown",
   "metadata": {
    "id": "m_VktTNjXEWU"
   },
   "source": [
    "For a binary predictor in a linear model, you use only one of the dummy variables. The other becomes a \"base level\""
   ]
  },
  {
   "cell_type": "code",
   "execution_count": 11,
   "metadata": {
    "colab": {
     "base_uri": "https://localhost:8080/",
     "height": 424
    },
    "executionInfo": {
     "elapsed": 14,
     "status": "ok",
     "timestamp": 1696868791565,
     "user": {
      "displayName": "Robert Richardson",
      "userId": "16108946315450400305"
     },
     "user_tz": 360
    },
    "id": "MD5fbx2RW7hM",
    "outputId": "11453176-f3b3-43d0-bd69-914e445adfc3"
   },
   "outputs": [
    {
     "data": {
      "text/html": [
       "<div>\n",
       "<style scoped>\n",
       "    .dataframe tbody tr th:only-of-type {\n",
       "        vertical-align: middle;\n",
       "    }\n",
       "\n",
       "    .dataframe tbody tr th {\n",
       "        vertical-align: top;\n",
       "    }\n",
       "\n",
       "    .dataframe thead th {\n",
       "        text-align: right;\n",
       "    }\n",
       "</style>\n",
       "<table border=\"1\" class=\"dataframe\">\n",
       "  <thead>\n",
       "    <tr style=\"text-align: right;\">\n",
       "      <th></th>\n",
       "      <th>Age</th>\n",
       "      <th>Study_year</th>\n",
       "      <th>Gender_Male</th>\n",
       "    </tr>\n",
       "  </thead>\n",
       "  <tbody>\n",
       "    <tr>\n",
       "      <th>0</th>\n",
       "      <td>21</td>\n",
       "      <td>2</td>\n",
       "      <td>False</td>\n",
       "    </tr>\n",
       "    <tr>\n",
       "      <th>1</th>\n",
       "      <td>25</td>\n",
       "      <td>3</td>\n",
       "      <td>True</td>\n",
       "    </tr>\n",
       "    <tr>\n",
       "      <th>2</th>\n",
       "      <td>23</td>\n",
       "      <td>2</td>\n",
       "      <td>True</td>\n",
       "    </tr>\n",
       "    <tr>\n",
       "      <th>3</th>\n",
       "      <td>19</td>\n",
       "      <td>3</td>\n",
       "      <td>True</td>\n",
       "    </tr>\n",
       "    <tr>\n",
       "      <th>4</th>\n",
       "      <td>19</td>\n",
       "      <td>2</td>\n",
       "      <td>False</td>\n",
       "    </tr>\n",
       "    <tr>\n",
       "      <th>...</th>\n",
       "      <td>...</td>\n",
       "      <td>...</td>\n",
       "      <td>...</td>\n",
       "    </tr>\n",
       "    <tr>\n",
       "      <th>93</th>\n",
       "      <td>19</td>\n",
       "      <td>3</td>\n",
       "      <td>True</td>\n",
       "    </tr>\n",
       "    <tr>\n",
       "      <th>94</th>\n",
       "      <td>19</td>\n",
       "      <td>2</td>\n",
       "      <td>False</td>\n",
       "    </tr>\n",
       "    <tr>\n",
       "      <th>95</th>\n",
       "      <td>22</td>\n",
       "      <td>3</td>\n",
       "      <td>True</td>\n",
       "    </tr>\n",
       "    <tr>\n",
       "      <th>96</th>\n",
       "      <td>21</td>\n",
       "      <td>2</td>\n",
       "      <td>False</td>\n",
       "    </tr>\n",
       "    <tr>\n",
       "      <th>97</th>\n",
       "      <td>22</td>\n",
       "      <td>3</td>\n",
       "      <td>True</td>\n",
       "    </tr>\n",
       "  </tbody>\n",
       "</table>\n",
       "<p>98 rows × 3 columns</p>\n",
       "</div>"
      ],
      "text/plain": [
       "    Age  Study_year  Gender_Male \n",
       "0    21           2         False\n",
       "1    25           3          True\n",
       "2    23           2          True\n",
       "3    19           3          True\n",
       "4    19           2         False\n",
       "..  ...         ...           ...\n",
       "93   19           3          True\n",
       "94   19           2         False\n",
       "95   22           3          True\n",
       "96   21           2         False\n",
       "97   22           3          True\n",
       "\n",
       "[98 rows x 3 columns]"
      ]
     },
     "execution_count": 11,
     "metadata": {},
     "output_type": "execute_result"
    }
   ],
   "source": [
    "predictors = exp[[\"Age\",\"Study_year\",\"Gender\"]]\n",
    "X = pd.get_dummies(predictors,drop_first = True)\n",
    "y = exp[\"expenses\"]\n",
    "\n",
    "X"
   ]
  },
  {
   "cell_type": "markdown",
   "metadata": {
    "id": "4-ekoPHnXbzQ"
   },
   "source": [
    "Perform regression using the correct variables to find the effect of Gender."
   ]
  },
  {
   "cell_type": "code",
   "execution_count": 12,
   "metadata": {
    "colab": {
     "base_uri": "https://localhost:8080/",
     "height": 161
    },
    "executionInfo": {
     "elapsed": 13,
     "status": "ok",
     "timestamp": 1696868791565,
     "user": {
      "displayName": "Robert Richardson",
      "userId": "16108946315450400305"
     },
     "user_tz": 360
    },
    "id": "VhBLWpfsWznH",
    "outputId": "238ddf5f-3d3a-4cdf-9db0-201b5095d906"
   },
   "outputs": [
    {
     "name": "stdout",
     "output_type": "stream",
     "text": [
      "intercept: 120.01442367230575\n"
     ]
    },
    {
     "data": {
      "text/html": [
       "<div>\n",
       "<style scoped>\n",
       "    .dataframe tbody tr th:only-of-type {\n",
       "        vertical-align: middle;\n",
       "    }\n",
       "\n",
       "    .dataframe tbody tr th {\n",
       "        vertical-align: top;\n",
       "    }\n",
       "\n",
       "    .dataframe thead th {\n",
       "        text-align: right;\n",
       "    }\n",
       "</style>\n",
       "<table border=\"1\" class=\"dataframe\">\n",
       "  <thead>\n",
       "    <tr style=\"text-align: right;\">\n",
       "      <th></th>\n",
       "      <th>0</th>\n",
       "      <th>1</th>\n",
       "    </tr>\n",
       "  </thead>\n",
       "  <tbody>\n",
       "    <tr>\n",
       "      <th>0</th>\n",
       "      <td>Age</td>\n",
       "      <td>3.260135</td>\n",
       "    </tr>\n",
       "    <tr>\n",
       "      <th>1</th>\n",
       "      <td>Study_year</td>\n",
       "      <td>11.118083</td>\n",
       "    </tr>\n",
       "    <tr>\n",
       "      <th>2</th>\n",
       "      <td>Gender_Male</td>\n",
       "      <td>0.135786</td>\n",
       "    </tr>\n",
       "  </tbody>\n",
       "</table>\n",
       "</div>"
      ],
      "text/plain": [
       "              0          1\n",
       "0           Age   3.260135\n",
       "1    Study_year  11.118083\n",
       "2  Gender_Male    0.135786"
      ]
     },
     "execution_count": 12,
     "metadata": {},
     "output_type": "execute_result"
    }
   ],
   "source": [
    "\n",
    "# Initialize a regression\n",
    "reg_prep = LinearRegression()\n",
    "\n",
    "# Fit the regression\n",
    "mod_reg = reg_prep.fit(X,y)\n",
    "# Print the coefficients\n",
    "print('intercept:', mod_reg.intercept_)\n",
    "pd.DataFrame(zip(X.columns,mod_reg.coef_))\n"
   ]
  },
  {
   "cell_type": "markdown",
   "metadata": {
    "id": "J3T2pA2kXnXO"
   },
   "source": [
    "Create X matrix using 2 binary variables."
   ]
  },
  {
   "cell_type": "code",
   "execution_count": 13,
   "metadata": {
    "colab": {
     "base_uri": "https://localhost:8080/",
     "height": 424
    },
    "executionInfo": {
     "elapsed": 193,
     "status": "ok",
     "timestamp": 1696868791747,
     "user": {
      "displayName": "Robert Richardson",
      "userId": "16108946315450400305"
     },
     "user_tz": 360
    },
    "id": "6E1RLtTS-Xmd",
    "outputId": "924a338a-9287-4eaa-ecca-64e89e5f2d44"
   },
   "outputs": [
    {
     "data": {
      "text/html": [
       "<div>\n",
       "<style scoped>\n",
       "    .dataframe tbody tr th:only-of-type {\n",
       "        vertical-align: middle;\n",
       "    }\n",
       "\n",
       "    .dataframe tbody tr th {\n",
       "        vertical-align: top;\n",
       "    }\n",
       "\n",
       "    .dataframe thead th {\n",
       "        text-align: right;\n",
       "    }\n",
       "</style>\n",
       "<table border=\"1\" class=\"dataframe\">\n",
       "  <thead>\n",
       "    <tr style=\"text-align: right;\">\n",
       "      <th></th>\n",
       "      <th>Age</th>\n",
       "      <th>Study_year</th>\n",
       "      <th>Gender_Male</th>\n",
       "      <th>Scholarship_Yes</th>\n",
       "    </tr>\n",
       "  </thead>\n",
       "  <tbody>\n",
       "    <tr>\n",
       "      <th>0</th>\n",
       "      <td>21</td>\n",
       "      <td>2</td>\n",
       "      <td>False</td>\n",
       "      <td>False</td>\n",
       "    </tr>\n",
       "    <tr>\n",
       "      <th>1</th>\n",
       "      <td>25</td>\n",
       "      <td>3</td>\n",
       "      <td>True</td>\n",
       "      <td>False</td>\n",
       "    </tr>\n",
       "    <tr>\n",
       "      <th>2</th>\n",
       "      <td>23</td>\n",
       "      <td>2</td>\n",
       "      <td>True</td>\n",
       "      <td>True</td>\n",
       "    </tr>\n",
       "    <tr>\n",
       "      <th>3</th>\n",
       "      <td>19</td>\n",
       "      <td>3</td>\n",
       "      <td>True</td>\n",
       "      <td>False</td>\n",
       "    </tr>\n",
       "    <tr>\n",
       "      <th>4</th>\n",
       "      <td>19</td>\n",
       "      <td>2</td>\n",
       "      <td>False</td>\n",
       "      <td>False</td>\n",
       "    </tr>\n",
       "    <tr>\n",
       "      <th>...</th>\n",
       "      <td>...</td>\n",
       "      <td>...</td>\n",
       "      <td>...</td>\n",
       "      <td>...</td>\n",
       "    </tr>\n",
       "    <tr>\n",
       "      <th>93</th>\n",
       "      <td>19</td>\n",
       "      <td>3</td>\n",
       "      <td>True</td>\n",
       "      <td>False</td>\n",
       "    </tr>\n",
       "    <tr>\n",
       "      <th>94</th>\n",
       "      <td>19</td>\n",
       "      <td>2</td>\n",
       "      <td>False</td>\n",
       "      <td>False</td>\n",
       "    </tr>\n",
       "    <tr>\n",
       "      <th>95</th>\n",
       "      <td>22</td>\n",
       "      <td>3</td>\n",
       "      <td>True</td>\n",
       "      <td>False</td>\n",
       "    </tr>\n",
       "    <tr>\n",
       "      <th>96</th>\n",
       "      <td>21</td>\n",
       "      <td>2</td>\n",
       "      <td>False</td>\n",
       "      <td>True</td>\n",
       "    </tr>\n",
       "    <tr>\n",
       "      <th>97</th>\n",
       "      <td>22</td>\n",
       "      <td>3</td>\n",
       "      <td>True</td>\n",
       "      <td>False</td>\n",
       "    </tr>\n",
       "  </tbody>\n",
       "</table>\n",
       "<p>98 rows × 4 columns</p>\n",
       "</div>"
      ],
      "text/plain": [
       "    Age  Study_year  Gender_Male   Scholarship_Yes\n",
       "0    21           2         False            False\n",
       "1    25           3          True            False\n",
       "2    23           2          True             True\n",
       "3    19           3          True            False\n",
       "4    19           2         False            False\n",
       "..  ...         ...           ...              ...\n",
       "93   19           3          True            False\n",
       "94   19           2         False            False\n",
       "95   22           3          True            False\n",
       "96   21           2         False             True\n",
       "97   22           3          True            False\n",
       "\n",
       "[98 rows x 4 columns]"
      ]
     },
     "execution_count": 13,
     "metadata": {},
     "output_type": "execute_result"
    }
   ],
   "source": [
    "predictors = exp[[\"Age\",\"Study_year\",\"Gender\",\"Scholarship\"]]\n",
    "X = pd.get_dummies(predictors,drop_first = True)\n",
    "y = exp[\"expenses\"]\n",
    "\n",
    "X"
   ]
  },
  {
   "cell_type": "code",
   "execution_count": 14,
   "metadata": {
    "colab": {
     "base_uri": "https://localhost:8080/"
    },
    "executionInfo": {
     "elapsed": 14,
     "status": "ok",
     "timestamp": 1696868791747,
     "user": {
      "displayName": "Robert Richardson",
      "userId": "16108946315450400305"
     },
     "user_tz": 360
    },
    "id": "YkmBBrUl-pMC",
    "outputId": "5d0b0163-6ce8-40a2-d01a-05b503b6b2cd"
   },
   "outputs": [
    {
     "name": "stdout",
     "output_type": "stream",
     "text": [
      "intercept: 150.87690841251455\n"
     ]
    },
    {
     "data": {
      "text/plain": [
       "{'Age': np.float64(1.0572280776784313),\n",
       " 'Study_year': np.float64(14.197934509326576),\n",
       " 'Gender_Male ': np.float64(3.314471560857985),\n",
       " 'Scholarship_Yes': np.float64(15.796305361431838)}"
      ]
     },
     "execution_count": 14,
     "metadata": {},
     "output_type": "execute_result"
    }
   ],
   "source": [
    "# Initialize a regression\n",
    "reg_prep = LinearRegression()\n",
    "\n",
    "# Fit the regression\n",
    "mod_reg = reg_prep.fit(X,y)\n",
    "# Print the coefficients\n",
    "print('intercept:', mod_reg.intercept_)\n",
    "dict(zip(X.columns,mod_reg.coef_))"
   ]
  },
  {
   "cell_type": "markdown",
   "metadata": {
    "id": "8StAnyyxXsq-"
   },
   "source": [
    "Transporting is coded as \"Car\",\"Motorcycle\", and \"No\". We create 3 dummy variables and drop the \"base level\""
   ]
  },
  {
   "cell_type": "code",
   "execution_count": 15,
   "metadata": {
    "colab": {
     "base_uri": "https://localhost:8080/",
     "height": 424
    },
    "executionInfo": {
     "elapsed": 12,
     "status": "ok",
     "timestamp": 1696868791747,
     "user": {
      "displayName": "Robert Richardson",
      "userId": "16108946315450400305"
     },
     "user_tz": 360
    },
    "id": "yMrlIZ8M-yWx",
    "outputId": "096961d3-fbdc-4200-95a5-4b2d814e86ef"
   },
   "outputs": [
    {
     "data": {
      "text/html": [
       "<div>\n",
       "<style scoped>\n",
       "    .dataframe tbody tr th:only-of-type {\n",
       "        vertical-align: middle;\n",
       "    }\n",
       "\n",
       "    .dataframe tbody tr th {\n",
       "        vertical-align: top;\n",
       "    }\n",
       "\n",
       "    .dataframe thead th {\n",
       "        text-align: right;\n",
       "    }\n",
       "</style>\n",
       "<table border=\"1\" class=\"dataframe\">\n",
       "  <thead>\n",
       "    <tr style=\"text-align: right;\">\n",
       "      <th></th>\n",
       "      <th>Age</th>\n",
       "      <th>Study_year</th>\n",
       "      <th>Gender_Male</th>\n",
       "      <th>Scholarship_Yes</th>\n",
       "      <th>Transporting_Motorcycle</th>\n",
       "      <th>Transporting_No</th>\n",
       "    </tr>\n",
       "  </thead>\n",
       "  <tbody>\n",
       "    <tr>\n",
       "      <th>0</th>\n",
       "      <td>21</td>\n",
       "      <td>2</td>\n",
       "      <td>False</td>\n",
       "      <td>False</td>\n",
       "      <td>False</td>\n",
       "      <td>True</td>\n",
       "    </tr>\n",
       "    <tr>\n",
       "      <th>1</th>\n",
       "      <td>25</td>\n",
       "      <td>3</td>\n",
       "      <td>True</td>\n",
       "      <td>False</td>\n",
       "      <td>True</td>\n",
       "      <td>False</td>\n",
       "    </tr>\n",
       "    <tr>\n",
       "      <th>2</th>\n",
       "      <td>23</td>\n",
       "      <td>2</td>\n",
       "      <td>True</td>\n",
       "      <td>True</td>\n",
       "      <td>False</td>\n",
       "      <td>True</td>\n",
       "    </tr>\n",
       "    <tr>\n",
       "      <th>3</th>\n",
       "      <td>19</td>\n",
       "      <td>3</td>\n",
       "      <td>True</td>\n",
       "      <td>False</td>\n",
       "      <td>True</td>\n",
       "      <td>False</td>\n",
       "    </tr>\n",
       "    <tr>\n",
       "      <th>4</th>\n",
       "      <td>19</td>\n",
       "      <td>2</td>\n",
       "      <td>False</td>\n",
       "      <td>False</td>\n",
       "      <td>True</td>\n",
       "      <td>False</td>\n",
       "    </tr>\n",
       "    <tr>\n",
       "      <th>...</th>\n",
       "      <td>...</td>\n",
       "      <td>...</td>\n",
       "      <td>...</td>\n",
       "      <td>...</td>\n",
       "      <td>...</td>\n",
       "      <td>...</td>\n",
       "    </tr>\n",
       "    <tr>\n",
       "      <th>93</th>\n",
       "      <td>19</td>\n",
       "      <td>3</td>\n",
       "      <td>True</td>\n",
       "      <td>False</td>\n",
       "      <td>True</td>\n",
       "      <td>False</td>\n",
       "    </tr>\n",
       "    <tr>\n",
       "      <th>94</th>\n",
       "      <td>19</td>\n",
       "      <td>2</td>\n",
       "      <td>False</td>\n",
       "      <td>False</td>\n",
       "      <td>True</td>\n",
       "      <td>False</td>\n",
       "    </tr>\n",
       "    <tr>\n",
       "      <th>95</th>\n",
       "      <td>22</td>\n",
       "      <td>3</td>\n",
       "      <td>True</td>\n",
       "      <td>False</td>\n",
       "      <td>False</td>\n",
       "      <td>False</td>\n",
       "    </tr>\n",
       "    <tr>\n",
       "      <th>96</th>\n",
       "      <td>21</td>\n",
       "      <td>2</td>\n",
       "      <td>False</td>\n",
       "      <td>True</td>\n",
       "      <td>False</td>\n",
       "      <td>True</td>\n",
       "    </tr>\n",
       "    <tr>\n",
       "      <th>97</th>\n",
       "      <td>22</td>\n",
       "      <td>3</td>\n",
       "      <td>True</td>\n",
       "      <td>False</td>\n",
       "      <td>True</td>\n",
       "      <td>False</td>\n",
       "    </tr>\n",
       "  </tbody>\n",
       "</table>\n",
       "<p>98 rows × 6 columns</p>\n",
       "</div>"
      ],
      "text/plain": [
       "    Age  Study_year  Gender_Male   Scholarship_Yes  Transporting_Motorcycle  \\\n",
       "0    21           2         False            False                    False   \n",
       "1    25           3          True            False                     True   \n",
       "2    23           2          True             True                    False   \n",
       "3    19           3          True            False                     True   \n",
       "4    19           2         False            False                     True   \n",
       "..  ...         ...           ...              ...                      ...   \n",
       "93   19           3          True            False                     True   \n",
       "94   19           2         False            False                     True   \n",
       "95   22           3          True            False                    False   \n",
       "96   21           2         False             True                    False   \n",
       "97   22           3          True            False                     True   \n",
       "\n",
       "    Transporting_No  \n",
       "0              True  \n",
       "1             False  \n",
       "2              True  \n",
       "3             False  \n",
       "4             False  \n",
       "..              ...  \n",
       "93            False  \n",
       "94            False  \n",
       "95            False  \n",
       "96             True  \n",
       "97            False  \n",
       "\n",
       "[98 rows x 6 columns]"
      ]
     },
     "execution_count": 15,
     "metadata": {},
     "output_type": "execute_result"
    }
   ],
   "source": [
    "predictors = exp[[\"Age\",\"Study_year\",\"Gender\",\"Scholarship\",\"Transporting\"]]\n",
    "X = pd.get_dummies(predictors,drop_first = True)\n",
    "y = exp[\"expenses\"]\n",
    "\n",
    "X"
   ]
  },
  {
   "cell_type": "markdown",
   "metadata": {
    "id": "yEdfcS69X2Go"
   },
   "source": [
    "Fit a full regression model on the full data set."
   ]
  },
  {
   "cell_type": "code",
   "execution_count": 16,
   "metadata": {
    "colab": {
     "base_uri": "https://localhost:8080/",
     "height": 255
    },
    "executionInfo": {
     "elapsed": 180,
     "status": "ok",
     "timestamp": 1696868791917,
     "user": {
      "displayName": "Robert Richardson",
      "userId": "16108946315450400305"
     },
     "user_tz": 360
    },
    "id": "m0Fc38mA_b9k",
    "outputId": "003c02bf-40ce-4738-d785-612ea9f9e628"
   },
   "outputs": [
    {
     "name": "stdout",
     "output_type": "stream",
     "text": [
      "intercept: 150.58512971599455\n"
     ]
    },
    {
     "data": {
      "text/html": [
       "<div>\n",
       "<style scoped>\n",
       "    .dataframe tbody tr th:only-of-type {\n",
       "        vertical-align: middle;\n",
       "    }\n",
       "\n",
       "    .dataframe tbody tr th {\n",
       "        vertical-align: top;\n",
       "    }\n",
       "\n",
       "    .dataframe thead th {\n",
       "        text-align: right;\n",
       "    }\n",
       "</style>\n",
       "<table border=\"1\" class=\"dataframe\">\n",
       "  <thead>\n",
       "    <tr style=\"text-align: right;\">\n",
       "      <th></th>\n",
       "      <th>0</th>\n",
       "      <th>1</th>\n",
       "    </tr>\n",
       "  </thead>\n",
       "  <tbody>\n",
       "    <tr>\n",
       "      <th>0</th>\n",
       "      <td>Age</td>\n",
       "      <td>4.494720</td>\n",
       "    </tr>\n",
       "    <tr>\n",
       "      <th>1</th>\n",
       "      <td>Study_year</td>\n",
       "      <td>4.602708</td>\n",
       "    </tr>\n",
       "    <tr>\n",
       "      <th>2</th>\n",
       "      <td>Gender_Male</td>\n",
       "      <td>-9.686980</td>\n",
       "    </tr>\n",
       "    <tr>\n",
       "      <th>3</th>\n",
       "      <td>Scholarship_Yes</td>\n",
       "      <td>18.222237</td>\n",
       "    </tr>\n",
       "    <tr>\n",
       "      <th>4</th>\n",
       "      <td>Transporting_Motorcycle</td>\n",
       "      <td>-38.345094</td>\n",
       "    </tr>\n",
       "    <tr>\n",
       "      <th>5</th>\n",
       "      <td>Transporting_No</td>\n",
       "      <td>-73.894118</td>\n",
       "    </tr>\n",
       "  </tbody>\n",
       "</table>\n",
       "</div>"
      ],
      "text/plain": [
       "                         0          1\n",
       "0                      Age   4.494720\n",
       "1               Study_year   4.602708\n",
       "2             Gender_Male   -9.686980\n",
       "3          Scholarship_Yes  18.222237\n",
       "4  Transporting_Motorcycle -38.345094\n",
       "5          Transporting_No -73.894118"
      ]
     },
     "execution_count": 16,
     "metadata": {},
     "output_type": "execute_result"
    }
   ],
   "source": [
    "# Initialize a regression\n",
    "reg_prep = LinearRegression()\n",
    "\n",
    "# Fit the regression\n",
    "mod_reg = reg_prep.fit(X,y)\n",
    "# Print the coefficients\n",
    "print('intercept:', mod_reg.intercept_)\n",
    "pd.DataFrame(zip(X.columns,mod_reg.coef_))"
   ]
  },
  {
   "cell_type": "markdown",
   "metadata": {},
   "source": [
    "Fitting a tree model to the data. Have to dummify my categorical variables."
   ]
  },
  {
   "cell_type": "code",
   "execution_count": 17,
   "metadata": {},
   "outputs": [
    {
     "ename": "NameError",
     "evalue": "name 'DecisionTreeRegressor' is not defined",
     "output_type": "error",
     "traceback": [
      "\u001b[31m---------------------------------------------------------------------------\u001b[39m",
      "\u001b[31mNameError\u001b[39m                                 Traceback (most recent call last)",
      "\u001b[36mCell\u001b[39m\u001b[36m \u001b[39m\u001b[32mIn[17]\u001b[39m\u001b[32m, line 7\u001b[39m\n\u001b[32m      4\u001b[39m y = exp[\u001b[33m\"\u001b[39m\u001b[33mexpenses\u001b[39m\u001b[33m\"\u001b[39m]\n\u001b[32m      6\u001b[39m \u001b[38;5;66;03m# Initialize and train a decision tree regressor\u001b[39;00m\n\u001b[32m----> \u001b[39m\u001b[32m7\u001b[39m decision_tree = \u001b[43mDecisionTreeRegressor\u001b[49m(max_depth=\u001b[32m3\u001b[39m)\n\u001b[32m      8\u001b[39m decision_tree.fit(X, y)\n\u001b[32m     10\u001b[39m \u001b[38;5;66;03m# Visualize the tree structure\u001b[39;00m\n",
      "\u001b[31mNameError\u001b[39m: name 'DecisionTreeRegressor' is not defined"
     ]
    }
   ],
   "source": [
    "\n",
    "# Extract predictors and get dummies for categorical variables\n",
    "predictors = exp[[\"Age\", \"Study_year\", \"Gender\", \"Scholarship\", \"Transporting\"]]\n",
    "X = pd.get_dummies(predictors, drop_first=True)  # Avoid dummy variable trap by dropping the first dummy variable\n",
    "y = exp[\"expenses\"]\n",
    "\n",
    "# Initialize and train a decision tree regressor\n",
    "decision_tree = DecisionTreeRegressor(max_depth=3)\n",
    "decision_tree.fit(X, y)\n",
    "\n",
    "# Visualize the tree structure\n",
    "plt.figure(figsize=(28, 13))\n",
    "plot_tree(decision_tree, feature_names=X.columns, fontsize=13, filled=True)\n",
    "plt.show()"
   ]
  }
 ],
 "metadata": {
  "colab": {
   "authorship_tag": "ABX9TyOTE+MV3h9+WvMZ1JHOrfhH",
   "provenance": []
  },
  "kernelspec": {
   "display_name": "base",
   "language": "python",
   "name": "python3"
  },
  "language_info": {
   "codemirror_mode": {
    "name": "ipython",
    "version": 3
   },
   "file_extension": ".py",
   "mimetype": "text/x-python",
   "name": "python",
   "nbconvert_exporter": "python",
   "pygments_lexer": "ipython3",
   "version": "3.12.6"
  }
 },
 "nbformat": 4,
 "nbformat_minor": 0
}
